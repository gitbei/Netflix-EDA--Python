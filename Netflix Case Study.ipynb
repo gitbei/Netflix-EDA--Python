{
 "cells": [
  {
   "cell_type": "markdown",
   "id": "6d1eeeb5",
   "metadata": {},
   "source": [
    "### Problem Statement and Information on Netflix"
   ]
  },
  {
   "cell_type": "markdown",
   "id": "2276bf8a",
   "metadata": {},
   "source": [
    "Netflix is one of the most popular streaming services in the world, providing users with access to a vast collection of TV shows and movies. The platform has gained a massive following in recent years, and its popularity shows no signs of slowing down. We’ll be using Python to perform exploratory data analysis (EDA) on Netflix dataset. We’ll be using various Python libraries, including Pandas, NumPy, Matplotlib, and Seaborn to visualize and analyze the data.\n",
    "\n",
    "Objective is to gain valuable insights into the content on Netflix. These insights should help Netflix make better decisions about which type of shows/movies to produce and how they can grow the business in different countries."
   ]
  },
  {
   "cell_type": "markdown",
   "id": "aa6297a0",
   "metadata": {},
   "source": [
    "### Importing Libraries and loading the dataset"
   ]
  },
  {
   "cell_type": "code",
   "execution_count": 1237,
   "id": "5e6cafbe",
   "metadata": {},
   "outputs": [],
   "source": [
    "import pandas as pd\n",
    "import numpy as np\n",
    "import matplotlib.pyplot as plt\n",
    "import seaborn as sns"
   ]
  },
  {
   "cell_type": "code",
   "execution_count": 1238,
   "id": "ae81e095",
   "metadata": {},
   "outputs": [],
   "source": [
    "data = pd.read_csv(r\"C:\\Users\\n.rahman\\OneDrive - BALADNA\\Desktop\\BALADNA\\Ex Docs\\SCALER-DSML\\Module 6 - DAV - Pandas\\netflix.csv\")"
   ]
  },
  {
   "cell_type": "code",
   "execution_count": 1239,
   "id": "e07fe370",
   "metadata": {},
   "outputs": [
    {
     "data": {
      "text/plain": [
       "(8807, 12)"
      ]
     },
     "execution_count": 1239,
     "metadata": {},
     "output_type": "execute_result"
    }
   ],
   "source": [
    "data.shape"
   ]
  },
  {
   "cell_type": "code",
   "execution_count": 1240,
   "id": "e48c1c8b",
   "metadata": {},
   "outputs": [
    {
     "data": {
      "text/html": [
       "<div>\n",
       "<style scoped>\n",
       "    .dataframe tbody tr th:only-of-type {\n",
       "        vertical-align: middle;\n",
       "    }\n",
       "\n",
       "    .dataframe tbody tr th {\n",
       "        vertical-align: top;\n",
       "    }\n",
       "\n",
       "    .dataframe thead th {\n",
       "        text-align: right;\n",
       "    }\n",
       "</style>\n",
       "<table border=\"1\" class=\"dataframe\">\n",
       "  <thead>\n",
       "    <tr style=\"text-align: right;\">\n",
       "      <th></th>\n",
       "      <th>show_id</th>\n",
       "      <th>type</th>\n",
       "      <th>title</th>\n",
       "      <th>director</th>\n",
       "      <th>cast</th>\n",
       "      <th>country</th>\n",
       "      <th>date_added</th>\n",
       "      <th>release_year</th>\n",
       "      <th>rating</th>\n",
       "      <th>duration</th>\n",
       "      <th>listed_in</th>\n",
       "      <th>description</th>\n",
       "    </tr>\n",
       "  </thead>\n",
       "  <tbody>\n",
       "    <tr>\n",
       "      <th>4116</th>\n",
       "      <td>s4117</td>\n",
       "      <td>TV Show</td>\n",
       "      <td>Velvet Colección</td>\n",
       "      <td>NaN</td>\n",
       "      <td>Marta Hazas, Asier Etxeandía, Adrián Lastra, D...</td>\n",
       "      <td>Spain</td>\n",
       "      <td>February 14, 2019</td>\n",
       "      <td>2018</td>\n",
       "      <td>TV-14</td>\n",
       "      <td>2 Seasons</td>\n",
       "      <td>International TV Shows, Romantic TV Shows, Spa...</td>\n",
       "      <td>In the late '60s, fashion designer Ana enlists...</td>\n",
       "    </tr>\n",
       "    <tr>\n",
       "      <th>264</th>\n",
       "      <td>s265</td>\n",
       "      <td>Movie</td>\n",
       "      <td>Walk of Shame</td>\n",
       "      <td>Steve Brill</td>\n",
       "      <td>Elizabeth Banks, James Marsden, Gillian Jacobs...</td>\n",
       "      <td>United States</td>\n",
       "      <td>August 16, 2021</td>\n",
       "      <td>2014</td>\n",
       "      <td>R</td>\n",
       "      <td>94 min</td>\n",
       "      <td>Comedies, Independent Movies</td>\n",
       "      <td>After a night of boozy carousing, a local news...</td>\n",
       "    </tr>\n",
       "    <tr>\n",
       "      <th>4190</th>\n",
       "      <td>s4191</td>\n",
       "      <td>Movie</td>\n",
       "      <td>Pandigai</td>\n",
       "      <td>Feroz</td>\n",
       "      <td>Kreshna, Anandhi, Saravanan, Madhusudhanan, Bl...</td>\n",
       "      <td>India</td>\n",
       "      <td>January 15, 2019</td>\n",
       "      <td>2017</td>\n",
       "      <td>TV-MA</td>\n",
       "      <td>125 min</td>\n",
       "      <td>Action &amp; Adventure, Dramas, International Movies</td>\n",
       "      <td>Looking for a way out of his impoverished life...</td>\n",
       "    </tr>\n",
       "    <tr>\n",
       "      <th>1191</th>\n",
       "      <td>s1192</td>\n",
       "      <td>Movie</td>\n",
       "      <td>The Fluffy Movie</td>\n",
       "      <td>Manny Rodriguez, Jay Lavender</td>\n",
       "      <td>Gabriel Iglesias</td>\n",
       "      <td>United States</td>\n",
       "      <td>March 18, 2021</td>\n",
       "      <td>2014</td>\n",
       "      <td>PG-13</td>\n",
       "      <td>101 min</td>\n",
       "      <td>Stand-Up Comedy</td>\n",
       "      <td>Comedian Gabriel Iglesias takes the stage in S...</td>\n",
       "    </tr>\n",
       "    <tr>\n",
       "      <th>5375</th>\n",
       "      <td>s5376</td>\n",
       "      <td>Movie</td>\n",
       "      <td>Buddy Thunderstruck: The Maybe Pile</td>\n",
       "      <td>Harry Chaskin</td>\n",
       "      <td>Brian Atkinson, Ted Raimi, Harry Chaskin, Debi...</td>\n",
       "      <td>United States</td>\n",
       "      <td>July 14, 2017</td>\n",
       "      <td>2017</td>\n",
       "      <td>TV-Y7</td>\n",
       "      <td>14 min</td>\n",
       "      <td>Children &amp; Family Movies, Comedies</td>\n",
       "      <td>Champion truck-racing dog Buddy and his best f...</td>\n",
       "    </tr>\n",
       "  </tbody>\n",
       "</table>\n",
       "</div>"
      ],
      "text/plain": [
       "     show_id     type                                title  \\\n",
       "4116   s4117  TV Show                     Velvet Colección   \n",
       "264     s265    Movie                        Walk of Shame   \n",
       "4190   s4191    Movie                             Pandigai   \n",
       "1191   s1192    Movie                     The Fluffy Movie   \n",
       "5375   s5376    Movie  Buddy Thunderstruck: The Maybe Pile   \n",
       "\n",
       "                           director  \\\n",
       "4116                            NaN   \n",
       "264                     Steve Brill   \n",
       "4190                          Feroz   \n",
       "1191  Manny Rodriguez, Jay Lavender   \n",
       "5375                  Harry Chaskin   \n",
       "\n",
       "                                                   cast        country  \\\n",
       "4116  Marta Hazas, Asier Etxeandía, Adrián Lastra, D...          Spain   \n",
       "264   Elizabeth Banks, James Marsden, Gillian Jacobs...  United States   \n",
       "4190  Kreshna, Anandhi, Saravanan, Madhusudhanan, Bl...          India   \n",
       "1191                                   Gabriel Iglesias  United States   \n",
       "5375  Brian Atkinson, Ted Raimi, Harry Chaskin, Debi...  United States   \n",
       "\n",
       "             date_added  release_year rating   duration  \\\n",
       "4116  February 14, 2019          2018  TV-14  2 Seasons   \n",
       "264     August 16, 2021          2014      R     94 min   \n",
       "4190   January 15, 2019          2017  TV-MA    125 min   \n",
       "1191     March 18, 2021          2014  PG-13    101 min   \n",
       "5375      July 14, 2017          2017  TV-Y7     14 min   \n",
       "\n",
       "                                              listed_in  \\\n",
       "4116  International TV Shows, Romantic TV Shows, Spa...   \n",
       "264                        Comedies, Independent Movies   \n",
       "4190   Action & Adventure, Dramas, International Movies   \n",
       "1191                                    Stand-Up Comedy   \n",
       "5375                 Children & Family Movies, Comedies   \n",
       "\n",
       "                                            description  \n",
       "4116  In the late '60s, fashion designer Ana enlists...  \n",
       "264   After a night of boozy carousing, a local news...  \n",
       "4190  Looking for a way out of his impoverished life...  \n",
       "1191  Comedian Gabriel Iglesias takes the stage in S...  \n",
       "5375  Champion truck-racing dog Buddy and his best f...  "
      ]
     },
     "execution_count": 1240,
     "metadata": {},
     "output_type": "execute_result"
    }
   ],
   "source": [
    "data.sample(5)"
   ]
  },
  {
   "cell_type": "code",
   "execution_count": 1241,
   "id": "0b9552a1",
   "metadata": {},
   "outputs": [
    {
     "name": "stdout",
     "output_type": "stream",
     "text": [
      "<class 'pandas.core.frame.DataFrame'>\n",
      "RangeIndex: 8807 entries, 0 to 8806\n",
      "Data columns (total 12 columns):\n",
      " #   Column        Non-Null Count  Dtype \n",
      "---  ------        --------------  ----- \n",
      " 0   show_id       8807 non-null   object\n",
      " 1   type          8807 non-null   object\n",
      " 2   title         8807 non-null   object\n",
      " 3   director      6173 non-null   object\n",
      " 4   cast          7982 non-null   object\n",
      " 5   country       7976 non-null   object\n",
      " 6   date_added    8797 non-null   object\n",
      " 7   release_year  8807 non-null   int64 \n",
      " 8   rating        8803 non-null   object\n",
      " 9   duration      8804 non-null   object\n",
      " 10  listed_in     8807 non-null   object\n",
      " 11  description   8807 non-null   object\n",
      "dtypes: int64(1), object(11)\n",
      "memory usage: 825.8+ KB\n"
     ]
    }
   ],
   "source": [
    "data.info()"
   ]
  },
  {
   "cell_type": "markdown",
   "id": "c3a58ef9",
   "metadata": {},
   "source": [
    "#### Observation : Structure of Dataset\n",
    "\n",
    "Columns such as director, cast,country,listed_in values are stored together separated by comma. i.e multiple values separated by comma. So for us to analyse the data by a indivdual director or by cast or by listed in then we need to split the data in such a way that we can filter and analyse the data accordingly as required. So lets do the job of spliting all this columns and stack this rows vertically."
   ]
  },
  {
   "cell_type": "markdown",
   "id": "cb2a9f06",
   "metadata": {},
   "source": [
    "#### So lets do this task for director column first"
   ]
  },
  {
   "cell_type": "code",
   "execution_count": 1246,
   "id": "7ab7baa1",
   "metadata": {},
   "outputs": [
    {
     "data": {
      "text/html": [
       "<div>\n",
       "<style scoped>\n",
       "    .dataframe tbody tr th:only-of-type {\n",
       "        vertical-align: middle;\n",
       "    }\n",
       "\n",
       "    .dataframe tbody tr th {\n",
       "        vertical-align: top;\n",
       "    }\n",
       "\n",
       "    .dataframe thead th {\n",
       "        text-align: right;\n",
       "    }\n",
       "</style>\n",
       "<table border=\"1\" class=\"dataframe\">\n",
       "  <thead>\n",
       "    <tr style=\"text-align: right;\">\n",
       "      <th></th>\n",
       "      <th>title</th>\n",
       "      <th>director</th>\n",
       "    </tr>\n",
       "  </thead>\n",
       "  <tbody>\n",
       "    <tr>\n",
       "      <th>0</th>\n",
       "      <td>Dick Johnson Is Dead</td>\n",
       "      <td>Kirsten Johnson</td>\n",
       "    </tr>\n",
       "    <tr>\n",
       "      <th>1</th>\n",
       "      <td>Blood &amp; Water</td>\n",
       "      <td>nan</td>\n",
       "    </tr>\n",
       "    <tr>\n",
       "      <th>2</th>\n",
       "      <td>Ganglands</td>\n",
       "      <td>Julien Leclercq</td>\n",
       "    </tr>\n",
       "    <tr>\n",
       "      <th>3</th>\n",
       "      <td>Jailbirds New Orleans</td>\n",
       "      <td>nan</td>\n",
       "    </tr>\n",
       "    <tr>\n",
       "      <th>4</th>\n",
       "      <td>Kota Factory</td>\n",
       "      <td>nan</td>\n",
       "    </tr>\n",
       "    <tr>\n",
       "      <th>...</th>\n",
       "      <td>...</td>\n",
       "      <td>...</td>\n",
       "    </tr>\n",
       "    <tr>\n",
       "      <th>9607</th>\n",
       "      <td>Zodiac</td>\n",
       "      <td>David Fincher</td>\n",
       "    </tr>\n",
       "    <tr>\n",
       "      <th>9608</th>\n",
       "      <td>Zombie Dumb</td>\n",
       "      <td>nan</td>\n",
       "    </tr>\n",
       "    <tr>\n",
       "      <th>9609</th>\n",
       "      <td>Zombieland</td>\n",
       "      <td>Ruben Fleischer</td>\n",
       "    </tr>\n",
       "    <tr>\n",
       "      <th>9610</th>\n",
       "      <td>Zoom</td>\n",
       "      <td>Peter Hewitt</td>\n",
       "    </tr>\n",
       "    <tr>\n",
       "      <th>9611</th>\n",
       "      <td>Zubaan</td>\n",
       "      <td>Mozez Singh</td>\n",
       "    </tr>\n",
       "  </tbody>\n",
       "</table>\n",
       "<p>9612 rows × 2 columns</p>\n",
       "</div>"
      ],
      "text/plain": [
       "                      title         director\n",
       "0      Dick Johnson Is Dead  Kirsten Johnson\n",
       "1             Blood & Water              nan\n",
       "2                 Ganglands  Julien Leclercq\n",
       "3     Jailbirds New Orleans              nan\n",
       "4              Kota Factory              nan\n",
       "...                     ...              ...\n",
       "9607                 Zodiac    David Fincher\n",
       "9608            Zombie Dumb              nan\n",
       "9609             Zombieland  Ruben Fleischer\n",
       "9610                   Zoom     Peter Hewitt\n",
       "9611                 Zubaan      Mozez Singh\n",
       "\n",
       "[9612 rows x 2 columns]"
      ]
     },
     "execution_count": 1246,
     "metadata": {},
     "output_type": "execute_result"
    }
   ],
   "source": [
    "#This part of the code splits the \"director\"column by comma (',') into a list format and convert to a df with title as index\n",
    "director_split = pd.DataFrame(data[\"director\"].apply(lambda x:str(x).split(\", \")).tolist(),index=data[\"title\"])\n",
    "\n",
    "#stack():This method \"stacks\" the columns of the DataFrame on top of each other, effectively converting the DataFrame into a Series with a multi-level index.\n",
    "#followed by we reset_index\n",
    "director_split = director_split.stack().reset_index()\n",
    "\n",
    "#drop the unwanted column\n",
    "director_split.drop(\"level_1\",inplace=True,axis=1)\n",
    "\n",
    "#renaming the column accordignly\n",
    "director_split.rename({0:\"director\"},axis=1,inplace=True)\n",
    "director_split"
   ]
  },
  {
   "cell_type": "code",
   "execution_count": 1247,
   "id": "c8c77c75",
   "metadata": {},
   "outputs": [
    {
     "name": "stdout",
     "output_type": "stream",
     "text": [
      "<class 'pandas.core.frame.DataFrame'>\n",
      "RangeIndex: 9612 entries, 0 to 9611\n",
      "Data columns (total 2 columns):\n",
      " #   Column    Non-Null Count  Dtype \n",
      "---  ------    --------------  ----- \n",
      " 0   title     9612 non-null   object\n",
      " 1   director  9612 non-null   object\n",
      "dtypes: object(2)\n",
      "memory usage: 150.3+ KB\n"
     ]
    }
   ],
   "source": [
    "director_split.info() #indicating no null values which is wrong as nan is converted into string"
   ]
  },
  {
   "cell_type": "code",
   "execution_count": 1248,
   "id": "297bf6e3",
   "metadata": {},
   "outputs": [
    {
     "data": {
      "text/plain": [
       "director\n",
       "nan               2634\n",
       "Rajiv Chilaka       22\n",
       "Jan Suter           21\n",
       "Raúl Campos         19\n",
       "Suhas Kadav         16\n",
       "                  ... \n",
       "Raymie Muzquiz       1\n",
       "Stu Livingston       1\n",
       "Joe Menendez         1\n",
       "Eric Bross           1\n",
       "Mozez Singh          1\n",
       "Name: count, Length: 4994, dtype: int64"
      ]
     },
     "execution_count": 1248,
     "metadata": {},
     "output_type": "execute_result"
    }
   ],
   "source": [
    "#if you notice the nan is converted into string so its showing in value counts. normally real nan is not shows in value_counts\n",
    "director_split[\"director\"].value_counts()"
   ]
  },
  {
   "cell_type": "code",
   "execution_count": 1249,
   "id": "ab47f735",
   "metadata": {},
   "outputs": [],
   "source": [
    "#replace all nan string values as \"NaN\"\n",
    "director_split[\"director\"].replace(\"nan\",np.nan,inplace=True)\n"
   ]
  },
  {
   "cell_type": "code",
   "execution_count": 1250,
   "id": "6be7f426",
   "metadata": {},
   "outputs": [
    {
     "data": {
      "text/plain": [
       "director\n",
       "Rajiv Chilaka     22\n",
       "Jan Suter         21\n",
       "Raúl Campos       19\n",
       "Suhas Kadav       16\n",
       "Marcus Raboy      16\n",
       "                  ..\n",
       "Raymie Muzquiz     1\n",
       "Stu Livingston     1\n",
       "Joe Menendez       1\n",
       "Eric Bross         1\n",
       "Mozez Singh        1\n",
       "Name: count, Length: 4993, dtype: int64"
      ]
     },
     "execution_count": 1250,
     "metadata": {},
     "output_type": "execute_result"
    }
   ],
   "source": [
    "director_split[\"director\"].value_counts()"
   ]
  },
  {
   "cell_type": "markdown",
   "id": "d9eb2c3c",
   "metadata": {},
   "source": [
    "#### DONE for the director column. now need to apply the same for country,cast and listedin columns"
   ]
  },
  {
   "cell_type": "markdown",
   "id": "4db1d0a9",
   "metadata": {},
   "source": [
    "### splitting listedin"
   ]
  },
  {
   "cell_type": "code",
   "execution_count": 1251,
   "id": "a3498966",
   "metadata": {},
   "outputs": [
    {
     "data": {
      "text/html": [
       "<div>\n",
       "<style scoped>\n",
       "    .dataframe tbody tr th:only-of-type {\n",
       "        vertical-align: middle;\n",
       "    }\n",
       "\n",
       "    .dataframe tbody tr th {\n",
       "        vertical-align: top;\n",
       "    }\n",
       "\n",
       "    .dataframe thead th {\n",
       "        text-align: right;\n",
       "    }\n",
       "</style>\n",
       "<table border=\"1\" class=\"dataframe\">\n",
       "  <thead>\n",
       "    <tr style=\"text-align: right;\">\n",
       "      <th></th>\n",
       "      <th>title</th>\n",
       "      <th>listed_in</th>\n",
       "    </tr>\n",
       "  </thead>\n",
       "  <tbody>\n",
       "    <tr>\n",
       "      <th>0</th>\n",
       "      <td>Dick Johnson Is Dead</td>\n",
       "      <td>Documentaries</td>\n",
       "    </tr>\n",
       "    <tr>\n",
       "      <th>1</th>\n",
       "      <td>Blood &amp; Water</td>\n",
       "      <td>International TV Shows</td>\n",
       "    </tr>\n",
       "    <tr>\n",
       "      <th>2</th>\n",
       "      <td>Blood &amp; Water</td>\n",
       "      <td>TV Dramas</td>\n",
       "    </tr>\n",
       "    <tr>\n",
       "      <th>3</th>\n",
       "      <td>Blood &amp; Water</td>\n",
       "      <td>TV Mysteries</td>\n",
       "    </tr>\n",
       "    <tr>\n",
       "      <th>4</th>\n",
       "      <td>Ganglands</td>\n",
       "      <td>Crime TV Shows</td>\n",
       "    </tr>\n",
       "    <tr>\n",
       "      <th>...</th>\n",
       "      <td>...</td>\n",
       "      <td>...</td>\n",
       "    </tr>\n",
       "    <tr>\n",
       "      <th>19318</th>\n",
       "      <td>Zoom</td>\n",
       "      <td>Children &amp; Family Movies</td>\n",
       "    </tr>\n",
       "    <tr>\n",
       "      <th>19319</th>\n",
       "      <td>Zoom</td>\n",
       "      <td>Comedies</td>\n",
       "    </tr>\n",
       "    <tr>\n",
       "      <th>19320</th>\n",
       "      <td>Zubaan</td>\n",
       "      <td>Dramas</td>\n",
       "    </tr>\n",
       "    <tr>\n",
       "      <th>19321</th>\n",
       "      <td>Zubaan</td>\n",
       "      <td>International Movies</td>\n",
       "    </tr>\n",
       "    <tr>\n",
       "      <th>19322</th>\n",
       "      <td>Zubaan</td>\n",
       "      <td>Music &amp; Musicals</td>\n",
       "    </tr>\n",
       "  </tbody>\n",
       "</table>\n",
       "<p>19323 rows × 2 columns</p>\n",
       "</div>"
      ],
      "text/plain": [
       "                      title                 listed_in\n",
       "0      Dick Johnson Is Dead             Documentaries\n",
       "1             Blood & Water    International TV Shows\n",
       "2             Blood & Water                 TV Dramas\n",
       "3             Blood & Water              TV Mysteries\n",
       "4                 Ganglands            Crime TV Shows\n",
       "...                     ...                       ...\n",
       "19318                  Zoom  Children & Family Movies\n",
       "19319                  Zoom                  Comedies\n",
       "19320                Zubaan                    Dramas\n",
       "19321                Zubaan      International Movies\n",
       "19322                Zubaan          Music & Musicals\n",
       "\n",
       "[19323 rows x 2 columns]"
      ]
     },
     "execution_count": 1251,
     "metadata": {},
     "output_type": "execute_result"
    }
   ],
   "source": [
    "listedin_split = pd.DataFrame(data[\"listed_in\"].apply(lambda x:str(x).split(\", \")).tolist(),index=data[\"title\"])\n",
    "listedin_split = listedin_split.stack().reset_index()\n",
    "listedin_split.drop(\"level_1\",inplace=True,axis=1)\n",
    "listedin_split.rename({0:\"listed_in\"},axis=1,inplace=True)\n",
    "listedin_split[\"listed_in\"].replace(\"nan\",np.nan,inplace=True)\n",
    "listedin_split"
   ]
  },
  {
   "cell_type": "markdown",
   "id": "45cdebfb",
   "metadata": {},
   "source": [
    "### splitting country"
   ]
  },
  {
   "cell_type": "code",
   "execution_count": 1252,
   "id": "010dde0e",
   "metadata": {},
   "outputs": [
    {
     "data": {
      "text/html": [
       "<div>\n",
       "<style scoped>\n",
       "    .dataframe tbody tr th:only-of-type {\n",
       "        vertical-align: middle;\n",
       "    }\n",
       "\n",
       "    .dataframe tbody tr th {\n",
       "        vertical-align: top;\n",
       "    }\n",
       "\n",
       "    .dataframe thead th {\n",
       "        text-align: right;\n",
       "    }\n",
       "</style>\n",
       "<table border=\"1\" class=\"dataframe\">\n",
       "  <thead>\n",
       "    <tr style=\"text-align: right;\">\n",
       "      <th></th>\n",
       "      <th>title</th>\n",
       "      <th>country</th>\n",
       "    </tr>\n",
       "  </thead>\n",
       "  <tbody>\n",
       "    <tr>\n",
       "      <th>0</th>\n",
       "      <td>Dick Johnson Is Dead</td>\n",
       "      <td>United States</td>\n",
       "    </tr>\n",
       "    <tr>\n",
       "      <th>1</th>\n",
       "      <td>Blood &amp; Water</td>\n",
       "      <td>South Africa</td>\n",
       "    </tr>\n",
       "    <tr>\n",
       "      <th>2</th>\n",
       "      <td>Ganglands</td>\n",
       "      <td>NaN</td>\n",
       "    </tr>\n",
       "    <tr>\n",
       "      <th>3</th>\n",
       "      <td>Jailbirds New Orleans</td>\n",
       "      <td>NaN</td>\n",
       "    </tr>\n",
       "    <tr>\n",
       "      <th>4</th>\n",
       "      <td>Kota Factory</td>\n",
       "      <td>India</td>\n",
       "    </tr>\n",
       "    <tr>\n",
       "      <th>...</th>\n",
       "      <td>...</td>\n",
       "      <td>...</td>\n",
       "    </tr>\n",
       "    <tr>\n",
       "      <th>10840</th>\n",
       "      <td>Zodiac</td>\n",
       "      <td>United States</td>\n",
       "    </tr>\n",
       "    <tr>\n",
       "      <th>10841</th>\n",
       "      <td>Zombie Dumb</td>\n",
       "      <td>NaN</td>\n",
       "    </tr>\n",
       "    <tr>\n",
       "      <th>10842</th>\n",
       "      <td>Zombieland</td>\n",
       "      <td>United States</td>\n",
       "    </tr>\n",
       "    <tr>\n",
       "      <th>10843</th>\n",
       "      <td>Zoom</td>\n",
       "      <td>United States</td>\n",
       "    </tr>\n",
       "    <tr>\n",
       "      <th>10844</th>\n",
       "      <td>Zubaan</td>\n",
       "      <td>India</td>\n",
       "    </tr>\n",
       "  </tbody>\n",
       "</table>\n",
       "<p>10845 rows × 2 columns</p>\n",
       "</div>"
      ],
      "text/plain": [
       "                       title        country\n",
       "0       Dick Johnson Is Dead  United States\n",
       "1              Blood & Water   South Africa\n",
       "2                  Ganglands            NaN\n",
       "3      Jailbirds New Orleans            NaN\n",
       "4               Kota Factory          India\n",
       "...                      ...            ...\n",
       "10840                 Zodiac  United States\n",
       "10841            Zombie Dumb            NaN\n",
       "10842             Zombieland  United States\n",
       "10843                   Zoom  United States\n",
       "10844                 Zubaan          India\n",
       "\n",
       "[10845 rows x 2 columns]"
      ]
     },
     "execution_count": 1252,
     "metadata": {},
     "output_type": "execute_result"
    }
   ],
   "source": [
    "country_split = pd.DataFrame(data[\"country\"].apply(lambda x:str(x).split(\", \")).tolist(),index=data[\"title\"])\n",
    "country_split = country_split.stack().reset_index()\n",
    "country_split.drop(\"level_1\",inplace=True,axis=1)\n",
    "country_split.rename({0:\"country\"},axis=1,inplace=True)\n",
    "country_split[\"country\"].replace(\"nan\",np.nan,inplace=True)\n",
    "country_split"
   ]
  },
  {
   "cell_type": "markdown",
   "id": "075fba17",
   "metadata": {},
   "source": [
    "### splitting cast"
   ]
  },
  {
   "cell_type": "code",
   "execution_count": 1253,
   "id": "83fd46c5",
   "metadata": {},
   "outputs": [
    {
     "data": {
      "text/html": [
       "<div>\n",
       "<style scoped>\n",
       "    .dataframe tbody tr th:only-of-type {\n",
       "        vertical-align: middle;\n",
       "    }\n",
       "\n",
       "    .dataframe tbody tr th {\n",
       "        vertical-align: top;\n",
       "    }\n",
       "\n",
       "    .dataframe thead th {\n",
       "        text-align: right;\n",
       "    }\n",
       "</style>\n",
       "<table border=\"1\" class=\"dataframe\">\n",
       "  <thead>\n",
       "    <tr style=\"text-align: right;\">\n",
       "      <th></th>\n",
       "      <th>title</th>\n",
       "      <th>cast</th>\n",
       "    </tr>\n",
       "  </thead>\n",
       "  <tbody>\n",
       "    <tr>\n",
       "      <th>0</th>\n",
       "      <td>Dick Johnson Is Dead</td>\n",
       "      <td>NaN</td>\n",
       "    </tr>\n",
       "    <tr>\n",
       "      <th>1</th>\n",
       "      <td>Blood &amp; Water</td>\n",
       "      <td>Ama Qamata</td>\n",
       "    </tr>\n",
       "    <tr>\n",
       "      <th>2</th>\n",
       "      <td>Blood &amp; Water</td>\n",
       "      <td>Khosi Ngema</td>\n",
       "    </tr>\n",
       "    <tr>\n",
       "      <th>3</th>\n",
       "      <td>Blood &amp; Water</td>\n",
       "      <td>Gail Mabalane</td>\n",
       "    </tr>\n",
       "    <tr>\n",
       "      <th>4</th>\n",
       "      <td>Blood &amp; Water</td>\n",
       "      <td>Thabang Molaba</td>\n",
       "    </tr>\n",
       "    <tr>\n",
       "      <th>...</th>\n",
       "      <td>...</td>\n",
       "      <td>...</td>\n",
       "    </tr>\n",
       "    <tr>\n",
       "      <th>64946</th>\n",
       "      <td>Zubaan</td>\n",
       "      <td>Manish Chaudhary</td>\n",
       "    </tr>\n",
       "    <tr>\n",
       "      <th>64947</th>\n",
       "      <td>Zubaan</td>\n",
       "      <td>Meghna Malik</td>\n",
       "    </tr>\n",
       "    <tr>\n",
       "      <th>64948</th>\n",
       "      <td>Zubaan</td>\n",
       "      <td>Malkeet Rauni</td>\n",
       "    </tr>\n",
       "    <tr>\n",
       "      <th>64949</th>\n",
       "      <td>Zubaan</td>\n",
       "      <td>Anita Shabdish</td>\n",
       "    </tr>\n",
       "    <tr>\n",
       "      <th>64950</th>\n",
       "      <td>Zubaan</td>\n",
       "      <td>Chittaranjan Tripathy</td>\n",
       "    </tr>\n",
       "  </tbody>\n",
       "</table>\n",
       "<p>64951 rows × 2 columns</p>\n",
       "</div>"
      ],
      "text/plain": [
       "                      title                   cast\n",
       "0      Dick Johnson Is Dead                    NaN\n",
       "1             Blood & Water             Ama Qamata\n",
       "2             Blood & Water            Khosi Ngema\n",
       "3             Blood & Water          Gail Mabalane\n",
       "4             Blood & Water         Thabang Molaba\n",
       "...                     ...                    ...\n",
       "64946                Zubaan       Manish Chaudhary\n",
       "64947                Zubaan           Meghna Malik\n",
       "64948                Zubaan          Malkeet Rauni\n",
       "64949                Zubaan         Anita Shabdish\n",
       "64950                Zubaan  Chittaranjan Tripathy\n",
       "\n",
       "[64951 rows x 2 columns]"
      ]
     },
     "execution_count": 1253,
     "metadata": {},
     "output_type": "execute_result"
    }
   ],
   "source": [
    "cast_split = pd.DataFrame(data[\"cast\"].apply(lambda x:str(x).split(\", \")).tolist(),index=data[\"title\"])\n",
    "cast_split = cast_split.stack().reset_index()\n",
    "cast_split.drop(\"level_1\",inplace=True,axis=1)\n",
    "cast_split.rename({0:\"cast\"},axis=1,inplace=True)\n",
    "cast_split[\"cast\"].replace(\"nan\",np.nan,inplace=True)\n",
    "cast_split"
   ]
  },
  {
   "cell_type": "markdown",
   "id": "c8c6d3fe",
   "metadata": {},
   "source": [
    "## Merging all the dataframe splitted based on the common field \"title\""
   ]
  },
  {
   "cell_type": "code",
   "execution_count": 1254,
   "id": "14df9cfb",
   "metadata": {},
   "outputs": [],
   "source": [
    "#merging listerin and country split dataframe into one. \n",
    "merge_listedin_country = pd.merge(listedin_split,country_split,how=\"inner\", on =\"title\")"
   ]
  },
  {
   "cell_type": "code",
   "execution_count": 1255,
   "id": "819a8bd7",
   "metadata": {},
   "outputs": [
    {
     "data": {
      "text/html": [
       "<div>\n",
       "<style scoped>\n",
       "    .dataframe tbody tr th:only-of-type {\n",
       "        vertical-align: middle;\n",
       "    }\n",
       "\n",
       "    .dataframe tbody tr th {\n",
       "        vertical-align: top;\n",
       "    }\n",
       "\n",
       "    .dataframe thead th {\n",
       "        text-align: right;\n",
       "    }\n",
       "</style>\n",
       "<table border=\"1\" class=\"dataframe\">\n",
       "  <thead>\n",
       "    <tr style=\"text-align: right;\">\n",
       "      <th></th>\n",
       "      <th>title</th>\n",
       "      <th>listed_in</th>\n",
       "      <th>country</th>\n",
       "    </tr>\n",
       "  </thead>\n",
       "  <tbody>\n",
       "    <tr>\n",
       "      <th>0</th>\n",
       "      <td>Dick Johnson Is Dead</td>\n",
       "      <td>Documentaries</td>\n",
       "      <td>United States</td>\n",
       "    </tr>\n",
       "    <tr>\n",
       "      <th>1</th>\n",
       "      <td>Blood &amp; Water</td>\n",
       "      <td>International TV Shows</td>\n",
       "      <td>South Africa</td>\n",
       "    </tr>\n",
       "    <tr>\n",
       "      <th>2</th>\n",
       "      <td>Blood &amp; Water</td>\n",
       "      <td>TV Dramas</td>\n",
       "      <td>South Africa</td>\n",
       "    </tr>\n",
       "    <tr>\n",
       "      <th>3</th>\n",
       "      <td>Blood &amp; Water</td>\n",
       "      <td>TV Mysteries</td>\n",
       "      <td>South Africa</td>\n",
       "    </tr>\n",
       "    <tr>\n",
       "      <th>4</th>\n",
       "      <td>Ganglands</td>\n",
       "      <td>Crime TV Shows</td>\n",
       "      <td>NaN</td>\n",
       "    </tr>\n",
       "  </tbody>\n",
       "</table>\n",
       "</div>"
      ],
      "text/plain": [
       "                  title               listed_in        country\n",
       "0  Dick Johnson Is Dead           Documentaries  United States\n",
       "1         Blood & Water  International TV Shows   South Africa\n",
       "2         Blood & Water               TV Dramas   South Africa\n",
       "3         Blood & Water            TV Mysteries   South Africa\n",
       "4             Ganglands          Crime TV Shows            NaN"
      ]
     },
     "execution_count": 1255,
     "metadata": {},
     "output_type": "execute_result"
    }
   ],
   "source": [
    "merge_listedin_country.head()"
   ]
  },
  {
   "cell_type": "code",
   "execution_count": 1256,
   "id": "b67ab236",
   "metadata": {
    "scrolled": true
   },
   "outputs": [
    {
     "data": {
      "text/html": [
       "<div>\n",
       "<style scoped>\n",
       "    .dataframe tbody tr th:only-of-type {\n",
       "        vertical-align: middle;\n",
       "    }\n",
       "\n",
       "    .dataframe tbody tr th {\n",
       "        vertical-align: top;\n",
       "    }\n",
       "\n",
       "    .dataframe thead th {\n",
       "        text-align: right;\n",
       "    }\n",
       "</style>\n",
       "<table border=\"1\" class=\"dataframe\">\n",
       "  <thead>\n",
       "    <tr style=\"text-align: right;\">\n",
       "      <th></th>\n",
       "      <th>title</th>\n",
       "      <th>director</th>\n",
       "      <th>cast</th>\n",
       "    </tr>\n",
       "  </thead>\n",
       "  <tbody>\n",
       "    <tr>\n",
       "      <th>0</th>\n",
       "      <td>Dick Johnson Is Dead</td>\n",
       "      <td>Kirsten Johnson</td>\n",
       "      <td>NaN</td>\n",
       "    </tr>\n",
       "    <tr>\n",
       "      <th>1</th>\n",
       "      <td>Blood &amp; Water</td>\n",
       "      <td>NaN</td>\n",
       "      <td>Ama Qamata</td>\n",
       "    </tr>\n",
       "    <tr>\n",
       "      <th>2</th>\n",
       "      <td>Blood &amp; Water</td>\n",
       "      <td>NaN</td>\n",
       "      <td>Khosi Ngema</td>\n",
       "    </tr>\n",
       "    <tr>\n",
       "      <th>3</th>\n",
       "      <td>Blood &amp; Water</td>\n",
       "      <td>NaN</td>\n",
       "      <td>Gail Mabalane</td>\n",
       "    </tr>\n",
       "    <tr>\n",
       "      <th>4</th>\n",
       "      <td>Blood &amp; Water</td>\n",
       "      <td>NaN</td>\n",
       "      <td>Thabang Molaba</td>\n",
       "    </tr>\n",
       "  </tbody>\n",
       "</table>\n",
       "</div>"
      ],
      "text/plain": [
       "                  title         director            cast\n",
       "0  Dick Johnson Is Dead  Kirsten Johnson             NaN\n",
       "1         Blood & Water              NaN      Ama Qamata\n",
       "2         Blood & Water              NaN     Khosi Ngema\n",
       "3         Blood & Water              NaN   Gail Mabalane\n",
       "4         Blood & Water              NaN  Thabang Molaba"
      ]
     },
     "execution_count": 1256,
     "metadata": {},
     "output_type": "execute_result"
    }
   ],
   "source": [
    "#merging cast and director split dataframe into one.\n",
    "merge_cast_director = pd.merge(director_split,cast_split,how=\"inner\",on=\"title\")\n",
    "merge_cast_director.head()"
   ]
  },
  {
   "cell_type": "markdown",
   "id": "b959c8fa",
   "metadata": {},
   "source": [
    "### merging all dataframe into one"
   ]
  },
  {
   "cell_type": "code",
   "execution_count": 1257,
   "id": "c9c07dcc",
   "metadata": {},
   "outputs": [],
   "source": [
    "merge_all = pd.merge(merge_listedin_country,merge_cast_director, how=\"inner\", on=\"title\")"
   ]
  },
  {
   "cell_type": "code",
   "execution_count": 1258,
   "id": "86701ef5",
   "metadata": {},
   "outputs": [
    {
     "data": {
      "text/html": [
       "<div>\n",
       "<style scoped>\n",
       "    .dataframe tbody tr th:only-of-type {\n",
       "        vertical-align: middle;\n",
       "    }\n",
       "\n",
       "    .dataframe tbody tr th {\n",
       "        vertical-align: top;\n",
       "    }\n",
       "\n",
       "    .dataframe thead th {\n",
       "        text-align: right;\n",
       "    }\n",
       "</style>\n",
       "<table border=\"1\" class=\"dataframe\">\n",
       "  <thead>\n",
       "    <tr style=\"text-align: right;\">\n",
       "      <th></th>\n",
       "      <th>title</th>\n",
       "      <th>listed_in</th>\n",
       "      <th>country</th>\n",
       "      <th>director</th>\n",
       "      <th>cast</th>\n",
       "    </tr>\n",
       "  </thead>\n",
       "  <tbody>\n",
       "    <tr>\n",
       "      <th>6917</th>\n",
       "      <td>Takizawa Kabuki ZERO 2020 The Movie</td>\n",
       "      <td>International Movies</td>\n",
       "      <td>NaN</td>\n",
       "      <td>Hideaki Takizawa</td>\n",
       "      <td>Raul</td>\n",
       "    </tr>\n",
       "    <tr>\n",
       "      <th>33700</th>\n",
       "      <td>Kilometers and Kilometers</td>\n",
       "      <td>Independent Movies</td>\n",
       "      <td>India</td>\n",
       "      <td>Jeo Baby</td>\n",
       "      <td>Joju George</td>\n",
       "    </tr>\n",
       "    <tr>\n",
       "      <th>18281</th>\n",
       "      <td>Millennials</td>\n",
       "      <td>Romantic TV Shows</td>\n",
       "      <td>Argentina</td>\n",
       "      <td>NaN</td>\n",
       "      <td>Chang Sung Kim</td>\n",
       "    </tr>\n",
       "    <tr>\n",
       "      <th>167086</th>\n",
       "      <td>Lockout</td>\n",
       "      <td>Action &amp; Adventure</td>\n",
       "      <td>France</td>\n",
       "      <td>James Mather</td>\n",
       "      <td>Joseph Gilgun</td>\n",
       "    </tr>\n",
       "    <tr>\n",
       "      <th>191873</th>\n",
       "      <td>The Iron Lady</td>\n",
       "      <td>International Movies</td>\n",
       "      <td>United Kingdom</td>\n",
       "      <td>Phyllida Lloyd</td>\n",
       "      <td>David Westhead</td>\n",
       "    </tr>\n",
       "    <tr>\n",
       "      <th>95795</th>\n",
       "      <td>Your Son</td>\n",
       "      <td>Dramas</td>\n",
       "      <td>France</td>\n",
       "      <td>Miguel Ángel Vivas</td>\n",
       "      <td>Ana Wagener</td>\n",
       "    </tr>\n",
       "    <tr>\n",
       "      <th>110387</th>\n",
       "      <td>The Could’ve-Gone-All-the-Way Committee</td>\n",
       "      <td>Romantic TV Shows</td>\n",
       "      <td>Japan</td>\n",
       "      <td>NaN</td>\n",
       "      <td>Yosuke Sugino</td>\n",
       "    </tr>\n",
       "    <tr>\n",
       "      <th>183461</th>\n",
       "      <td>Socha Na Tha</td>\n",
       "      <td>Romantic Movies</td>\n",
       "      <td>India</td>\n",
       "      <td>Imtiaz Ali</td>\n",
       "      <td>Rati Agnihotri</td>\n",
       "    </tr>\n",
       "    <tr>\n",
       "      <th>73201</th>\n",
       "      <td>Ghost Stories</td>\n",
       "      <td>Horror Movies</td>\n",
       "      <td>India</td>\n",
       "      <td>Zoya Akhtar</td>\n",
       "      <td>Sobhita Dhulipala</td>\n",
       "    </tr>\n",
       "    <tr>\n",
       "      <th>156169</th>\n",
       "      <td>Grand Masti</td>\n",
       "      <td>Music &amp; Musicals</td>\n",
       "      <td>India</td>\n",
       "      <td>Indra Kumar</td>\n",
       "      <td>Bruna Abdullah</td>\n",
       "    </tr>\n",
       "  </tbody>\n",
       "</table>\n",
       "</div>"
      ],
      "text/plain": [
       "                                          title             listed_in  \\\n",
       "6917        Takizawa Kabuki ZERO 2020 The Movie  International Movies   \n",
       "33700                 Kilometers and Kilometers    Independent Movies   \n",
       "18281                               Millennials     Romantic TV Shows   \n",
       "167086                                  Lockout    Action & Adventure   \n",
       "191873                            The Iron Lady  International Movies   \n",
       "95795                                  Your Son                Dramas   \n",
       "110387  The Could’ve-Gone-All-the-Way Committee     Romantic TV Shows   \n",
       "183461                             Socha Na Tha       Romantic Movies   \n",
       "73201                             Ghost Stories         Horror Movies   \n",
       "156169                              Grand Masti      Music & Musicals   \n",
       "\n",
       "               country            director               cast  \n",
       "6917               NaN    Hideaki Takizawa               Raul  \n",
       "33700            India            Jeo Baby        Joju George  \n",
       "18281        Argentina                 NaN     Chang Sung Kim  \n",
       "167086          France        James Mather      Joseph Gilgun  \n",
       "191873  United Kingdom      Phyllida Lloyd     David Westhead  \n",
       "95795           France  Miguel Ángel Vivas        Ana Wagener  \n",
       "110387           Japan                 NaN      Yosuke Sugino  \n",
       "183461           India          Imtiaz Ali     Rati Agnihotri  \n",
       "73201            India         Zoya Akhtar  Sobhita Dhulipala  \n",
       "156169           India         Indra Kumar     Bruna Abdullah  "
      ]
     },
     "execution_count": 1258,
     "metadata": {},
     "output_type": "execute_result"
    }
   ],
   "source": [
    "merge_all.sample(10)"
   ]
  },
  {
   "cell_type": "markdown",
   "id": "e100d714",
   "metadata": {},
   "source": [
    "## Now lets merge with the original dataframe to get all other attributes along with the merged one."
   ]
  },
  {
   "cell_type": "code",
   "execution_count": 1259,
   "id": "285b6cfc",
   "metadata": {
    "scrolled": true
   },
   "outputs": [
    {
     "data": {
      "text/html": [
       "<div>\n",
       "<style scoped>\n",
       "    .dataframe tbody tr th:only-of-type {\n",
       "        vertical-align: middle;\n",
       "    }\n",
       "\n",
       "    .dataframe tbody tr th {\n",
       "        vertical-align: top;\n",
       "    }\n",
       "\n",
       "    .dataframe thead th {\n",
       "        text-align: right;\n",
       "    }\n",
       "</style>\n",
       "<table border=\"1\" class=\"dataframe\">\n",
       "  <thead>\n",
       "    <tr style=\"text-align: right;\">\n",
       "      <th></th>\n",
       "      <th>show_id</th>\n",
       "      <th>type</th>\n",
       "      <th>date_added</th>\n",
       "      <th>release_year</th>\n",
       "      <th>rating</th>\n",
       "      <th>duration</th>\n",
       "      <th>description</th>\n",
       "      <th>title</th>\n",
       "      <th>listed_in</th>\n",
       "      <th>country</th>\n",
       "      <th>director</th>\n",
       "      <th>cast</th>\n",
       "    </tr>\n",
       "  </thead>\n",
       "  <tbody>\n",
       "    <tr>\n",
       "      <th>0</th>\n",
       "      <td>s1</td>\n",
       "      <td>Movie</td>\n",
       "      <td>September 25, 2021</td>\n",
       "      <td>2020</td>\n",
       "      <td>PG-13</td>\n",
       "      <td>90 min</td>\n",
       "      <td>As her father nears the end of his life, filmm...</td>\n",
       "      <td>Dick Johnson Is Dead</td>\n",
       "      <td>Documentaries</td>\n",
       "      <td>United States</td>\n",
       "      <td>Kirsten Johnson</td>\n",
       "      <td>NaN</td>\n",
       "    </tr>\n",
       "    <tr>\n",
       "      <th>1</th>\n",
       "      <td>s2</td>\n",
       "      <td>TV Show</td>\n",
       "      <td>September 24, 2021</td>\n",
       "      <td>2021</td>\n",
       "      <td>TV-MA</td>\n",
       "      <td>2 Seasons</td>\n",
       "      <td>After crossing paths at a party, a Cape Town t...</td>\n",
       "      <td>Blood &amp; Water</td>\n",
       "      <td>International TV Shows</td>\n",
       "      <td>South Africa</td>\n",
       "      <td>NaN</td>\n",
       "      <td>Ama Qamata</td>\n",
       "    </tr>\n",
       "    <tr>\n",
       "      <th>2</th>\n",
       "      <td>s2</td>\n",
       "      <td>TV Show</td>\n",
       "      <td>September 24, 2021</td>\n",
       "      <td>2021</td>\n",
       "      <td>TV-MA</td>\n",
       "      <td>2 Seasons</td>\n",
       "      <td>After crossing paths at a party, a Cape Town t...</td>\n",
       "      <td>Blood &amp; Water</td>\n",
       "      <td>International TV Shows</td>\n",
       "      <td>South Africa</td>\n",
       "      <td>NaN</td>\n",
       "      <td>Khosi Ngema</td>\n",
       "    </tr>\n",
       "    <tr>\n",
       "      <th>3</th>\n",
       "      <td>s2</td>\n",
       "      <td>TV Show</td>\n",
       "      <td>September 24, 2021</td>\n",
       "      <td>2021</td>\n",
       "      <td>TV-MA</td>\n",
       "      <td>2 Seasons</td>\n",
       "      <td>After crossing paths at a party, a Cape Town t...</td>\n",
       "      <td>Blood &amp; Water</td>\n",
       "      <td>International TV Shows</td>\n",
       "      <td>South Africa</td>\n",
       "      <td>NaN</td>\n",
       "      <td>Gail Mabalane</td>\n",
       "    </tr>\n",
       "    <tr>\n",
       "      <th>4</th>\n",
       "      <td>s2</td>\n",
       "      <td>TV Show</td>\n",
       "      <td>September 24, 2021</td>\n",
       "      <td>2021</td>\n",
       "      <td>TV-MA</td>\n",
       "      <td>2 Seasons</td>\n",
       "      <td>After crossing paths at a party, a Cape Town t...</td>\n",
       "      <td>Blood &amp; Water</td>\n",
       "      <td>International TV Shows</td>\n",
       "      <td>South Africa</td>\n",
       "      <td>NaN</td>\n",
       "      <td>Thabang Molaba</td>\n",
       "    </tr>\n",
       "  </tbody>\n",
       "</table>\n",
       "</div>"
      ],
      "text/plain": [
       "  show_id     type          date_added  release_year rating   duration  \\\n",
       "0      s1    Movie  September 25, 2021          2020  PG-13     90 min   \n",
       "1      s2  TV Show  September 24, 2021          2021  TV-MA  2 Seasons   \n",
       "2      s2  TV Show  September 24, 2021          2021  TV-MA  2 Seasons   \n",
       "3      s2  TV Show  September 24, 2021          2021  TV-MA  2 Seasons   \n",
       "4      s2  TV Show  September 24, 2021          2021  TV-MA  2 Seasons   \n",
       "\n",
       "                                         description                 title  \\\n",
       "0  As her father nears the end of his life, filmm...  Dick Johnson Is Dead   \n",
       "1  After crossing paths at a party, a Cape Town t...         Blood & Water   \n",
       "2  After crossing paths at a party, a Cape Town t...         Blood & Water   \n",
       "3  After crossing paths at a party, a Cape Town t...         Blood & Water   \n",
       "4  After crossing paths at a party, a Cape Town t...         Blood & Water   \n",
       "\n",
       "                listed_in        country         director            cast  \n",
       "0           Documentaries  United States  Kirsten Johnson             NaN  \n",
       "1  International TV Shows   South Africa              NaN      Ama Qamata  \n",
       "2  International TV Shows   South Africa              NaN     Khosi Ngema  \n",
       "3  International TV Shows   South Africa              NaN   Gail Mabalane  \n",
       "4  International TV Shows   South Africa              NaN  Thabang Molaba  "
      ]
     },
     "execution_count": 1259,
     "metadata": {},
     "output_type": "execute_result"
    }
   ],
   "source": [
    "data_final = pd.merge(data[[\"show_id\",\"type\",\"date_added\",\"release_year\",\"rating\",\"duration\",\"description\",\"title\"]],merge_all,how=\"inner\",on=\"title\")\n",
    "data_final.head()"
   ]
  },
  {
   "cell_type": "code",
   "execution_count": 1260,
   "id": "f87474f1",
   "metadata": {},
   "outputs": [
    {
     "data": {
      "text/plain": [
       "(201991, 12)"
      ]
     },
     "execution_count": 1260,
     "metadata": {},
     "output_type": "execute_result"
    }
   ],
   "source": [
    "data_final.shape"
   ]
  },
  {
   "cell_type": "code",
   "execution_count": 1261,
   "id": "22ca9f48",
   "metadata": {
    "scrolled": true
   },
   "outputs": [
    {
     "name": "stdout",
     "output_type": "stream",
     "text": [
      "<class 'pandas.core.frame.DataFrame'>\n",
      "RangeIndex: 201991 entries, 0 to 201990\n",
      "Data columns (total 12 columns):\n",
      " #   Column        Non-Null Count   Dtype \n",
      "---  ------        --------------   ----- \n",
      " 0   show_id       201991 non-null  object\n",
      " 1   type          201991 non-null  object\n",
      " 2   date_added    201833 non-null  object\n",
      " 3   release_year  201991 non-null  int64 \n",
      " 4   rating        201924 non-null  object\n",
      " 5   duration      201988 non-null  object\n",
      " 6   description   201991 non-null  object\n",
      " 7   title         201991 non-null  object\n",
      " 8   listed_in     201991 non-null  object\n",
      " 9   country       190094 non-null  object\n",
      " 10  director      151348 non-null  object\n",
      " 11  cast          199845 non-null  object\n",
      "dtypes: int64(1), object(11)\n",
      "memory usage: 18.5+ MB\n"
     ]
    }
   ],
   "source": [
    "data_final.info()"
   ]
  },
  {
   "cell_type": "markdown",
   "id": "05863515",
   "metadata": {},
   "source": [
    "### Checking for null values and duplicates"
   ]
  },
  {
   "cell_type": "markdown",
   "id": "7b30de5b",
   "metadata": {},
   "source": [
    "#### Checking for duplicates and dropping"
   ]
  },
  {
   "cell_type": "code",
   "execution_count": 1262,
   "id": "a0bd0516",
   "metadata": {},
   "outputs": [
    {
     "data": {
      "text/plain": [
       "55"
      ]
     },
     "execution_count": 1262,
     "metadata": {},
     "output_type": "execute_result"
    }
   ],
   "source": [
    "data_final.duplicated().sum()"
   ]
  },
  {
   "cell_type": "code",
   "execution_count": 1263,
   "id": "b7b6fcfd",
   "metadata": {
    "scrolled": false
   },
   "outputs": [
    {
     "data": {
      "text/html": [
       "<div>\n",
       "<style scoped>\n",
       "    .dataframe tbody tr th:only-of-type {\n",
       "        vertical-align: middle;\n",
       "    }\n",
       "\n",
       "    .dataframe tbody tr th {\n",
       "        vertical-align: top;\n",
       "    }\n",
       "\n",
       "    .dataframe thead th {\n",
       "        text-align: right;\n",
       "    }\n",
       "</style>\n",
       "<table border=\"1\" class=\"dataframe\">\n",
       "  <thead>\n",
       "    <tr style=\"text-align: right;\">\n",
       "      <th></th>\n",
       "      <th>show_id</th>\n",
       "      <th>type</th>\n",
       "      <th>date_added</th>\n",
       "      <th>release_year</th>\n",
       "      <th>rating</th>\n",
       "      <th>duration</th>\n",
       "      <th>description</th>\n",
       "      <th>title</th>\n",
       "      <th>listed_in</th>\n",
       "      <th>country</th>\n",
       "      <th>director</th>\n",
       "      <th>cast</th>\n",
       "    </tr>\n",
       "  </thead>\n",
       "  <tbody>\n",
       "    <tr>\n",
       "      <th>39336</th>\n",
       "      <td>s1632</td>\n",
       "      <td>Movie</td>\n",
       "      <td>November 30, 2020</td>\n",
       "      <td>2018</td>\n",
       "      <td>R</td>\n",
       "      <td>108 min</td>\n",
       "      <td>A wrong turn in the woods becomes a fight for ...</td>\n",
       "      <td>Rust Creek</td>\n",
       "      <td>Thrillers</td>\n",
       "      <td>United States</td>\n",
       "      <td>Jen McGowan</td>\n",
       "      <td>Micah Hauptman</td>\n",
       "    </tr>\n",
       "    <tr>\n",
       "      <th>88476</th>\n",
       "      <td>s3719</td>\n",
       "      <td>Movie</td>\n",
       "      <td>June 21, 2019</td>\n",
       "      <td>2019</td>\n",
       "      <td>TV-MA</td>\n",
       "      <td>113 min</td>\n",
       "      <td>Family patriarch Elías begins to unravel after...</td>\n",
       "      <td>Blood Will Tell</td>\n",
       "      <td>Dramas</td>\n",
       "      <td>Argentina</td>\n",
       "      <td>Miguel Cohan</td>\n",
       "      <td>Oscar Martínez</td>\n",
       "    </tr>\n",
       "    <tr>\n",
       "      <th>88477</th>\n",
       "      <td>s3719</td>\n",
       "      <td>Movie</td>\n",
       "      <td>June 21, 2019</td>\n",
       "      <td>2019</td>\n",
       "      <td>TV-MA</td>\n",
       "      <td>113 min</td>\n",
       "      <td>Family patriarch Elías begins to unravel after...</td>\n",
       "      <td>Blood Will Tell</td>\n",
       "      <td>Dramas</td>\n",
       "      <td>Argentina</td>\n",
       "      <td>Miguel Cohan</td>\n",
       "      <td>Dolores Fonzi</td>\n",
       "    </tr>\n",
       "    <tr>\n",
       "      <th>88478</th>\n",
       "      <td>s3719</td>\n",
       "      <td>Movie</td>\n",
       "      <td>June 21, 2019</td>\n",
       "      <td>2019</td>\n",
       "      <td>TV-MA</td>\n",
       "      <td>113 min</td>\n",
       "      <td>Family patriarch Elías begins to unravel after...</td>\n",
       "      <td>Blood Will Tell</td>\n",
       "      <td>Dramas</td>\n",
       "      <td>Argentina</td>\n",
       "      <td>Miguel Cohan</td>\n",
       "      <td>Diego Velázquez</td>\n",
       "    </tr>\n",
       "    <tr>\n",
       "      <th>88479</th>\n",
       "      <td>s3719</td>\n",
       "      <td>Movie</td>\n",
       "      <td>June 21, 2019</td>\n",
       "      <td>2019</td>\n",
       "      <td>TV-MA</td>\n",
       "      <td>113 min</td>\n",
       "      <td>Family patriarch Elías begins to unravel after...</td>\n",
       "      <td>Blood Will Tell</td>\n",
       "      <td>Dramas</td>\n",
       "      <td>Argentina</td>\n",
       "      <td>Miguel Cohan</td>\n",
       "      <td>Paulina Garcia</td>\n",
       "    </tr>\n",
       "  </tbody>\n",
       "</table>\n",
       "</div>"
      ],
      "text/plain": [
       "      show_id   type         date_added  release_year rating duration  \\\n",
       "39336   s1632  Movie  November 30, 2020          2018      R  108 min   \n",
       "88476   s3719  Movie      June 21, 2019          2019  TV-MA  113 min   \n",
       "88477   s3719  Movie      June 21, 2019          2019  TV-MA  113 min   \n",
       "88478   s3719  Movie      June 21, 2019          2019  TV-MA  113 min   \n",
       "88479   s3719  Movie      June 21, 2019          2019  TV-MA  113 min   \n",
       "\n",
       "                                             description            title  \\\n",
       "39336  A wrong turn in the woods becomes a fight for ...       Rust Creek   \n",
       "88476  Family patriarch Elías begins to unravel after...  Blood Will Tell   \n",
       "88477  Family patriarch Elías begins to unravel after...  Blood Will Tell   \n",
       "88478  Family patriarch Elías begins to unravel after...  Blood Will Tell   \n",
       "88479  Family patriarch Elías begins to unravel after...  Blood Will Tell   \n",
       "\n",
       "       listed_in        country      director             cast  \n",
       "39336  Thrillers  United States   Jen McGowan   Micah Hauptman  \n",
       "88476     Dramas      Argentina  Miguel Cohan   Oscar Martínez  \n",
       "88477     Dramas      Argentina  Miguel Cohan    Dolores Fonzi  \n",
       "88478     Dramas      Argentina  Miguel Cohan  Diego Velázquez  \n",
       "88479     Dramas      Argentina  Miguel Cohan   Paulina Garcia  "
      ]
     },
     "execution_count": 1263,
     "metadata": {},
     "output_type": "execute_result"
    }
   ],
   "source": [
    "data_final.loc[data_final.duplicated()].head()"
   ]
  },
  {
   "cell_type": "markdown",
   "id": "373f65ee",
   "metadata": {},
   "source": [
    "#### dropping the duplicate rows"
   ]
  },
  {
   "cell_type": "code",
   "execution_count": 1264,
   "id": "383cee7a",
   "metadata": {},
   "outputs": [],
   "source": [
    "data_final = data_final.drop_duplicates()"
   ]
  },
  {
   "cell_type": "code",
   "execution_count": 1265,
   "id": "b37970f7",
   "metadata": {},
   "outputs": [
    {
     "data": {
      "text/plain": [
       "0"
      ]
     },
     "execution_count": 1265,
     "metadata": {},
     "output_type": "execute_result"
    }
   ],
   "source": [
    "data_final.duplicated().sum()"
   ]
  },
  {
   "cell_type": "code",
   "execution_count": 1266,
   "id": "5639b974",
   "metadata": {},
   "outputs": [
    {
     "data": {
      "text/html": [
       "<div>\n",
       "<style scoped>\n",
       "    .dataframe tbody tr th:only-of-type {\n",
       "        vertical-align: middle;\n",
       "    }\n",
       "\n",
       "    .dataframe tbody tr th {\n",
       "        vertical-align: top;\n",
       "    }\n",
       "\n",
       "    .dataframe thead th {\n",
       "        text-align: right;\n",
       "    }\n",
       "</style>\n",
       "<table border=\"1\" class=\"dataframe\">\n",
       "  <thead>\n",
       "    <tr style=\"text-align: right;\">\n",
       "      <th></th>\n",
       "      <th>show_id</th>\n",
       "      <th>type</th>\n",
       "      <th>date_added</th>\n",
       "      <th>release_year</th>\n",
       "      <th>rating</th>\n",
       "      <th>duration</th>\n",
       "      <th>description</th>\n",
       "      <th>title</th>\n",
       "      <th>listed_in</th>\n",
       "      <th>country</th>\n",
       "      <th>director</th>\n",
       "      <th>cast</th>\n",
       "    </tr>\n",
       "  </thead>\n",
       "  <tbody>\n",
       "  </tbody>\n",
       "</table>\n",
       "</div>"
      ],
      "text/plain": [
       "Empty DataFrame\n",
       "Columns: [show_id, type, date_added, release_year, rating, duration, description, title, listed_in, country, director, cast]\n",
       "Index: []"
      ]
     },
     "execution_count": 1266,
     "metadata": {},
     "output_type": "execute_result"
    }
   ],
   "source": [
    "data_final.loc[data_final.duplicated()]"
   ]
  },
  {
   "cell_type": "code",
   "execution_count": 1267,
   "id": "d581e863",
   "metadata": {},
   "outputs": [],
   "source": [
    "data_final.reset_index(drop=True,inplace=True)"
   ]
  },
  {
   "cell_type": "code",
   "execution_count": 1268,
   "id": "3e8bfd8e",
   "metadata": {},
   "outputs": [
    {
     "name": "stdout",
     "output_type": "stream",
     "text": [
      "<class 'pandas.core.frame.DataFrame'>\n",
      "RangeIndex: 201936 entries, 0 to 201935\n",
      "Data columns (total 12 columns):\n",
      " #   Column        Non-Null Count   Dtype \n",
      "---  ------        --------------   ----- \n",
      " 0   show_id       201936 non-null  object\n",
      " 1   type          201936 non-null  object\n",
      " 2   date_added    201778 non-null  object\n",
      " 3   release_year  201936 non-null  int64 \n",
      " 4   rating        201869 non-null  object\n",
      " 5   duration      201933 non-null  object\n",
      " 6   description   201936 non-null  object\n",
      " 7   title         201936 non-null  object\n",
      " 8   listed_in     201936 non-null  object\n",
      " 9   country       190039 non-null  object\n",
      " 10  director      151293 non-null  object\n",
      " 11  cast          199790 non-null  object\n",
      "dtypes: int64(1), object(11)\n",
      "memory usage: 18.5+ MB\n"
     ]
    }
   ],
   "source": [
    "data_final.info()"
   ]
  },
  {
   "cell_type": "markdown",
   "id": "b9f0356c",
   "metadata": {},
   "source": [
    "#### checking for null values and filling accordingly"
   ]
  },
  {
   "cell_type": "code",
   "execution_count": 1269,
   "id": "d458c7db",
   "metadata": {},
   "outputs": [
    {
     "data": {
      "text/html": [
       "<div>\n",
       "<style scoped>\n",
       "    .dataframe tbody tr th:only-of-type {\n",
       "        vertical-align: middle;\n",
       "    }\n",
       "\n",
       "    .dataframe tbody tr th {\n",
       "        vertical-align: top;\n",
       "    }\n",
       "\n",
       "    .dataframe thead th {\n",
       "        text-align: right;\n",
       "    }\n",
       "</style>\n",
       "<table border=\"1\" class=\"dataframe\">\n",
       "  <thead>\n",
       "    <tr style=\"text-align: right;\">\n",
       "      <th></th>\n",
       "      <th>show_id</th>\n",
       "      <th>type</th>\n",
       "      <th>date_added</th>\n",
       "      <th>release_year</th>\n",
       "      <th>rating</th>\n",
       "      <th>duration</th>\n",
       "      <th>description</th>\n",
       "      <th>title</th>\n",
       "      <th>listed_in</th>\n",
       "      <th>country</th>\n",
       "      <th>director</th>\n",
       "      <th>cast</th>\n",
       "    </tr>\n",
       "  </thead>\n",
       "  <tbody>\n",
       "    <tr>\n",
       "      <th>0</th>\n",
       "      <td>s1</td>\n",
       "      <td>Movie</td>\n",
       "      <td>September 25, 2021</td>\n",
       "      <td>2020</td>\n",
       "      <td>PG-13</td>\n",
       "      <td>90 min</td>\n",
       "      <td>As her father nears the end of his life, filmm...</td>\n",
       "      <td>Dick Johnson Is Dead</td>\n",
       "      <td>Documentaries</td>\n",
       "      <td>United States</td>\n",
       "      <td>Kirsten Johnson</td>\n",
       "      <td>NaN</td>\n",
       "    </tr>\n",
       "    <tr>\n",
       "      <th>1</th>\n",
       "      <td>s2</td>\n",
       "      <td>TV Show</td>\n",
       "      <td>September 24, 2021</td>\n",
       "      <td>2021</td>\n",
       "      <td>TV-MA</td>\n",
       "      <td>2 Seasons</td>\n",
       "      <td>After crossing paths at a party, a Cape Town t...</td>\n",
       "      <td>Blood &amp; Water</td>\n",
       "      <td>International TV Shows</td>\n",
       "      <td>South Africa</td>\n",
       "      <td>NaN</td>\n",
       "      <td>Ama Qamata</td>\n",
       "    </tr>\n",
       "    <tr>\n",
       "      <th>2</th>\n",
       "      <td>s2</td>\n",
       "      <td>TV Show</td>\n",
       "      <td>September 24, 2021</td>\n",
       "      <td>2021</td>\n",
       "      <td>TV-MA</td>\n",
       "      <td>2 Seasons</td>\n",
       "      <td>After crossing paths at a party, a Cape Town t...</td>\n",
       "      <td>Blood &amp; Water</td>\n",
       "      <td>International TV Shows</td>\n",
       "      <td>South Africa</td>\n",
       "      <td>NaN</td>\n",
       "      <td>Khosi Ngema</td>\n",
       "    </tr>\n",
       "    <tr>\n",
       "      <th>3</th>\n",
       "      <td>s2</td>\n",
       "      <td>TV Show</td>\n",
       "      <td>September 24, 2021</td>\n",
       "      <td>2021</td>\n",
       "      <td>TV-MA</td>\n",
       "      <td>2 Seasons</td>\n",
       "      <td>After crossing paths at a party, a Cape Town t...</td>\n",
       "      <td>Blood &amp; Water</td>\n",
       "      <td>International TV Shows</td>\n",
       "      <td>South Africa</td>\n",
       "      <td>NaN</td>\n",
       "      <td>Gail Mabalane</td>\n",
       "    </tr>\n",
       "    <tr>\n",
       "      <th>4</th>\n",
       "      <td>s2</td>\n",
       "      <td>TV Show</td>\n",
       "      <td>September 24, 2021</td>\n",
       "      <td>2021</td>\n",
       "      <td>TV-MA</td>\n",
       "      <td>2 Seasons</td>\n",
       "      <td>After crossing paths at a party, a Cape Town t...</td>\n",
       "      <td>Blood &amp; Water</td>\n",
       "      <td>International TV Shows</td>\n",
       "      <td>South Africa</td>\n",
       "      <td>NaN</td>\n",
       "      <td>Thabang Molaba</td>\n",
       "    </tr>\n",
       "  </tbody>\n",
       "</table>\n",
       "</div>"
      ],
      "text/plain": [
       "  show_id     type          date_added  release_year rating   duration  \\\n",
       "0      s1    Movie  September 25, 2021          2020  PG-13     90 min   \n",
       "1      s2  TV Show  September 24, 2021          2021  TV-MA  2 Seasons   \n",
       "2      s2  TV Show  September 24, 2021          2021  TV-MA  2 Seasons   \n",
       "3      s2  TV Show  September 24, 2021          2021  TV-MA  2 Seasons   \n",
       "4      s2  TV Show  September 24, 2021          2021  TV-MA  2 Seasons   \n",
       "\n",
       "                                         description                 title  \\\n",
       "0  As her father nears the end of his life, filmm...  Dick Johnson Is Dead   \n",
       "1  After crossing paths at a party, a Cape Town t...         Blood & Water   \n",
       "2  After crossing paths at a party, a Cape Town t...         Blood & Water   \n",
       "3  After crossing paths at a party, a Cape Town t...         Blood & Water   \n",
       "4  After crossing paths at a party, a Cape Town t...         Blood & Water   \n",
       "\n",
       "                listed_in        country         director            cast  \n",
       "0           Documentaries  United States  Kirsten Johnson             NaN  \n",
       "1  International TV Shows   South Africa              NaN      Ama Qamata  \n",
       "2  International TV Shows   South Africa              NaN     Khosi Ngema  \n",
       "3  International TV Shows   South Africa              NaN   Gail Mabalane  \n",
       "4  International TV Shows   South Africa              NaN  Thabang Molaba  "
      ]
     },
     "execution_count": 1269,
     "metadata": {},
     "output_type": "execute_result"
    }
   ],
   "source": [
    "#to filter all colums rows with null values\n",
    "data_final.loc[data_final.isnull().any(axis=1)].head()"
   ]
  },
  {
   "cell_type": "code",
   "execution_count": 1270,
   "id": "f95bf330",
   "metadata": {},
   "outputs": [
    {
     "data": {
      "text/plain": [
       "show_id             0\n",
       "type                0\n",
       "date_added        158\n",
       "release_year        0\n",
       "rating             67\n",
       "duration            3\n",
       "description         0\n",
       "title               0\n",
       "listed_in           0\n",
       "country         11897\n",
       "director        50643\n",
       "cast             2146\n",
       "dtype: int64"
      ]
     },
     "execution_count": 1270,
     "metadata": {},
     "output_type": "execute_result"
    }
   ],
   "source": [
    "data_final.isnull().sum()"
   ]
  },
  {
   "cell_type": "code",
   "execution_count": 1271,
   "id": "9552f7ea",
   "metadata": {},
   "outputs": [],
   "source": [
    "#replacing the director and cast columns missing value.\n",
    "data_final[\"director\"].fillna(\"Unknown Director\",inplace=True)\n",
    "data_final[\"cast\"].fillna(\"Unknown Cast\",inplace=True)"
   ]
  },
  {
   "cell_type": "code",
   "execution_count": 1272,
   "id": "270852c1",
   "metadata": {},
   "outputs": [
    {
     "data": {
      "text/plain": [
       "show_id             0\n",
       "type                0\n",
       "date_added        158\n",
       "release_year        0\n",
       "rating             67\n",
       "duration            3\n",
       "description         0\n",
       "title               0\n",
       "listed_in           0\n",
       "country         11897\n",
       "director            0\n",
       "cast                0\n",
       "dtype: int64"
      ]
     },
     "execution_count": 1272,
     "metadata": {},
     "output_type": "execute_result"
    }
   ],
   "source": [
    "data_final.isnull().sum()"
   ]
  },
  {
   "cell_type": "markdown",
   "id": "75d9a6cc",
   "metadata": {},
   "source": [
    "#### Handling the missing values in date_added\n",
    "\n",
    "- Add a default date as date_added and release year is in different date format.\n",
    "- Join the default date with the release year to match with the format of date_added"
   ]
  },
  {
   "cell_type": "code",
   "execution_count": 1273,
   "id": "81ff7e1f",
   "metadata": {},
   "outputs": [
    {
     "data": {
      "text/html": [
       "<div>\n",
       "<style scoped>\n",
       "    .dataframe tbody tr th:only-of-type {\n",
       "        vertical-align: middle;\n",
       "    }\n",
       "\n",
       "    .dataframe tbody tr th {\n",
       "        vertical-align: top;\n",
       "    }\n",
       "\n",
       "    .dataframe thead th {\n",
       "        text-align: right;\n",
       "    }\n",
       "</style>\n",
       "<table border=\"1\" class=\"dataframe\">\n",
       "  <thead>\n",
       "    <tr style=\"text-align: right;\">\n",
       "      <th></th>\n",
       "      <th>show_id</th>\n",
       "      <th>type</th>\n",
       "      <th>date_added</th>\n",
       "      <th>release_year</th>\n",
       "      <th>rating</th>\n",
       "      <th>duration</th>\n",
       "      <th>description</th>\n",
       "      <th>title</th>\n",
       "      <th>listed_in</th>\n",
       "      <th>country</th>\n",
       "      <th>director</th>\n",
       "      <th>cast</th>\n",
       "    </tr>\n",
       "  </thead>\n",
       "  <tbody>\n",
       "    <tr>\n",
       "      <th>0</th>\n",
       "      <td>s1</td>\n",
       "      <td>Movie</td>\n",
       "      <td>September 25, 2021</td>\n",
       "      <td>2020</td>\n",
       "      <td>PG-13</td>\n",
       "      <td>90 min</td>\n",
       "      <td>As her father nears the end of his life, filmm...</td>\n",
       "      <td>Dick Johnson Is Dead</td>\n",
       "      <td>Documentaries</td>\n",
       "      <td>United States</td>\n",
       "      <td>Kirsten Johnson</td>\n",
       "      <td>Unknown Cast</td>\n",
       "    </tr>\n",
       "    <tr>\n",
       "      <th>1</th>\n",
       "      <td>s2</td>\n",
       "      <td>TV Show</td>\n",
       "      <td>September 24, 2021</td>\n",
       "      <td>2021</td>\n",
       "      <td>TV-MA</td>\n",
       "      <td>2 Seasons</td>\n",
       "      <td>After crossing paths at a party, a Cape Town t...</td>\n",
       "      <td>Blood &amp; Water</td>\n",
       "      <td>International TV Shows</td>\n",
       "      <td>South Africa</td>\n",
       "      <td>Unknown Director</td>\n",
       "      <td>Ama Qamata</td>\n",
       "    </tr>\n",
       "    <tr>\n",
       "      <th>2</th>\n",
       "      <td>s2</td>\n",
       "      <td>TV Show</td>\n",
       "      <td>September 24, 2021</td>\n",
       "      <td>2021</td>\n",
       "      <td>TV-MA</td>\n",
       "      <td>2 Seasons</td>\n",
       "      <td>After crossing paths at a party, a Cape Town t...</td>\n",
       "      <td>Blood &amp; Water</td>\n",
       "      <td>International TV Shows</td>\n",
       "      <td>South Africa</td>\n",
       "      <td>Unknown Director</td>\n",
       "      <td>Khosi Ngema</td>\n",
       "    </tr>\n",
       "    <tr>\n",
       "      <th>3</th>\n",
       "      <td>s2</td>\n",
       "      <td>TV Show</td>\n",
       "      <td>September 24, 2021</td>\n",
       "      <td>2021</td>\n",
       "      <td>TV-MA</td>\n",
       "      <td>2 Seasons</td>\n",
       "      <td>After crossing paths at a party, a Cape Town t...</td>\n",
       "      <td>Blood &amp; Water</td>\n",
       "      <td>International TV Shows</td>\n",
       "      <td>South Africa</td>\n",
       "      <td>Unknown Director</td>\n",
       "      <td>Gail Mabalane</td>\n",
       "    </tr>\n",
       "    <tr>\n",
       "      <th>4</th>\n",
       "      <td>s2</td>\n",
       "      <td>TV Show</td>\n",
       "      <td>September 24, 2021</td>\n",
       "      <td>2021</td>\n",
       "      <td>TV-MA</td>\n",
       "      <td>2 Seasons</td>\n",
       "      <td>After crossing paths at a party, a Cape Town t...</td>\n",
       "      <td>Blood &amp; Water</td>\n",
       "      <td>International TV Shows</td>\n",
       "      <td>South Africa</td>\n",
       "      <td>Unknown Director</td>\n",
       "      <td>Thabang Molaba</td>\n",
       "    </tr>\n",
       "  </tbody>\n",
       "</table>\n",
       "</div>"
      ],
      "text/plain": [
       "  show_id     type          date_added  release_year rating   duration  \\\n",
       "0      s1    Movie  September 25, 2021          2020  PG-13     90 min   \n",
       "1      s2  TV Show  September 24, 2021          2021  TV-MA  2 Seasons   \n",
       "2      s2  TV Show  September 24, 2021          2021  TV-MA  2 Seasons   \n",
       "3      s2  TV Show  September 24, 2021          2021  TV-MA  2 Seasons   \n",
       "4      s2  TV Show  September 24, 2021          2021  TV-MA  2 Seasons   \n",
       "\n",
       "                                         description                 title  \\\n",
       "0  As her father nears the end of his life, filmm...  Dick Johnson Is Dead   \n",
       "1  After crossing paths at a party, a Cape Town t...         Blood & Water   \n",
       "2  After crossing paths at a party, a Cape Town t...         Blood & Water   \n",
       "3  After crossing paths at a party, a Cape Town t...         Blood & Water   \n",
       "4  After crossing paths at a party, a Cape Town t...         Blood & Water   \n",
       "\n",
       "                listed_in        country          director            cast  \n",
       "0           Documentaries  United States   Kirsten Johnson    Unknown Cast  \n",
       "1  International TV Shows   South Africa  Unknown Director      Ama Qamata  \n",
       "2  International TV Shows   South Africa  Unknown Director     Khosi Ngema  \n",
       "3  International TV Shows   South Africa  Unknown Director   Gail Mabalane  \n",
       "4  International TV Shows   South Africa  Unknown Director  Thabang Molaba  "
      ]
     },
     "execution_count": 1273,
     "metadata": {},
     "output_type": "execute_result"
    }
   ],
   "source": [
    "data_final.head() #you see date_added and release_year is of different format"
   ]
  },
  {
   "cell_type": "code",
   "execution_count": 1274,
   "id": "6b496639",
   "metadata": {},
   "outputs": [
    {
     "data": {
      "text/html": [
       "<div>\n",
       "<style scoped>\n",
       "    .dataframe tbody tr th:only-of-type {\n",
       "        vertical-align: middle;\n",
       "    }\n",
       "\n",
       "    .dataframe tbody tr th {\n",
       "        vertical-align: top;\n",
       "    }\n",
       "\n",
       "    .dataframe thead th {\n",
       "        text-align: right;\n",
       "    }\n",
       "</style>\n",
       "<table border=\"1\" class=\"dataframe\">\n",
       "  <thead>\n",
       "    <tr style=\"text-align: right;\">\n",
       "      <th></th>\n",
       "      <th>show_id</th>\n",
       "      <th>type</th>\n",
       "      <th>date_added</th>\n",
       "      <th>release_year</th>\n",
       "      <th>rating</th>\n",
       "      <th>duration</th>\n",
       "      <th>description</th>\n",
       "      <th>title</th>\n",
       "      <th>listed_in</th>\n",
       "      <th>country</th>\n",
       "      <th>director</th>\n",
       "      <th>cast</th>\n",
       "    </tr>\n",
       "  </thead>\n",
       "  <tbody>\n",
       "    <tr>\n",
       "      <th>136838</th>\n",
       "      <td>s6067</td>\n",
       "      <td>TV Show</td>\n",
       "      <td>NaN</td>\n",
       "      <td>2013</td>\n",
       "      <td>TV-MA</td>\n",
       "      <td>2 Seasons</td>\n",
       "      <td>Set during the Russian Revolution, this comic ...</td>\n",
       "      <td>A Young Doctor's Notebook and Other Stories</td>\n",
       "      <td>British TV Shows</td>\n",
       "      <td>United Kingdom</td>\n",
       "      <td>Unknown Director</td>\n",
       "      <td>Daniel Radcliffe</td>\n",
       "    </tr>\n",
       "    <tr>\n",
       "      <th>136839</th>\n",
       "      <td>s6067</td>\n",
       "      <td>TV Show</td>\n",
       "      <td>NaN</td>\n",
       "      <td>2013</td>\n",
       "      <td>TV-MA</td>\n",
       "      <td>2 Seasons</td>\n",
       "      <td>Set during the Russian Revolution, this comic ...</td>\n",
       "      <td>A Young Doctor's Notebook and Other Stories</td>\n",
       "      <td>British TV Shows</td>\n",
       "      <td>United Kingdom</td>\n",
       "      <td>Unknown Director</td>\n",
       "      <td>Jon Hamm</td>\n",
       "    </tr>\n",
       "    <tr>\n",
       "      <th>136840</th>\n",
       "      <td>s6067</td>\n",
       "      <td>TV Show</td>\n",
       "      <td>NaN</td>\n",
       "      <td>2013</td>\n",
       "      <td>TV-MA</td>\n",
       "      <td>2 Seasons</td>\n",
       "      <td>Set during the Russian Revolution, this comic ...</td>\n",
       "      <td>A Young Doctor's Notebook and Other Stories</td>\n",
       "      <td>British TV Shows</td>\n",
       "      <td>United Kingdom</td>\n",
       "      <td>Unknown Director</td>\n",
       "      <td>Adam Godley</td>\n",
       "    </tr>\n",
       "    <tr>\n",
       "      <th>136841</th>\n",
       "      <td>s6067</td>\n",
       "      <td>TV Show</td>\n",
       "      <td>NaN</td>\n",
       "      <td>2013</td>\n",
       "      <td>TV-MA</td>\n",
       "      <td>2 Seasons</td>\n",
       "      <td>Set during the Russian Revolution, this comic ...</td>\n",
       "      <td>A Young Doctor's Notebook and Other Stories</td>\n",
       "      <td>British TV Shows</td>\n",
       "      <td>United Kingdom</td>\n",
       "      <td>Unknown Director</td>\n",
       "      <td>Christopher Godwin</td>\n",
       "    </tr>\n",
       "    <tr>\n",
       "      <th>136842</th>\n",
       "      <td>s6067</td>\n",
       "      <td>TV Show</td>\n",
       "      <td>NaN</td>\n",
       "      <td>2013</td>\n",
       "      <td>TV-MA</td>\n",
       "      <td>2 Seasons</td>\n",
       "      <td>Set during the Russian Revolution, this comic ...</td>\n",
       "      <td>A Young Doctor's Notebook and Other Stories</td>\n",
       "      <td>British TV Shows</td>\n",
       "      <td>United Kingdom</td>\n",
       "      <td>Unknown Director</td>\n",
       "      <td>Rosie Cavaliero</td>\n",
       "    </tr>\n",
       "  </tbody>\n",
       "</table>\n",
       "</div>"
      ],
      "text/plain": [
       "       show_id     type date_added  release_year rating   duration  \\\n",
       "136838   s6067  TV Show        NaN          2013  TV-MA  2 Seasons   \n",
       "136839   s6067  TV Show        NaN          2013  TV-MA  2 Seasons   \n",
       "136840   s6067  TV Show        NaN          2013  TV-MA  2 Seasons   \n",
       "136841   s6067  TV Show        NaN          2013  TV-MA  2 Seasons   \n",
       "136842   s6067  TV Show        NaN          2013  TV-MA  2 Seasons   \n",
       "\n",
       "                                              description  \\\n",
       "136838  Set during the Russian Revolution, this comic ...   \n",
       "136839  Set during the Russian Revolution, this comic ...   \n",
       "136840  Set during the Russian Revolution, this comic ...   \n",
       "136841  Set during the Russian Revolution, this comic ...   \n",
       "136842  Set during the Russian Revolution, this comic ...   \n",
       "\n",
       "                                              title         listed_in  \\\n",
       "136838  A Young Doctor's Notebook and Other Stories  British TV Shows   \n",
       "136839  A Young Doctor's Notebook and Other Stories  British TV Shows   \n",
       "136840  A Young Doctor's Notebook and Other Stories  British TV Shows   \n",
       "136841  A Young Doctor's Notebook and Other Stories  British TV Shows   \n",
       "136842  A Young Doctor's Notebook and Other Stories  British TV Shows   \n",
       "\n",
       "               country          director                cast  \n",
       "136838  United Kingdom  Unknown Director    Daniel Radcliffe  \n",
       "136839  United Kingdom  Unknown Director            Jon Hamm  \n",
       "136840  United Kingdom  Unknown Director         Adam Godley  \n",
       "136841  United Kingdom  Unknown Director  Christopher Godwin  \n",
       "136842  United Kingdom  Unknown Director     Rosie Cavaliero  "
      ]
     },
     "execution_count": 1274,
     "metadata": {},
     "output_type": "execute_result"
    }
   ],
   "source": [
    "data_final.loc[data_final[\"date_added\"].isnull()].head()"
   ]
  },
  {
   "cell_type": "code",
   "execution_count": 1275,
   "id": "aba4790a",
   "metadata": {},
   "outputs": [],
   "source": [
    "#filling the missing values of date_added column with release year. \n",
    "default_date = \"January 01,\"\n",
    "data_final[\"date_added\"].fillna(default_date + data_final[\"release_year\"].astype(str),inplace=True)"
   ]
  },
  {
   "cell_type": "code",
   "execution_count": 1276,
   "id": "ffc8d8f1",
   "metadata": {},
   "outputs": [
    {
     "data": {
      "text/html": [
       "<div>\n",
       "<style scoped>\n",
       "    .dataframe tbody tr th:only-of-type {\n",
       "        vertical-align: middle;\n",
       "    }\n",
       "\n",
       "    .dataframe tbody tr th {\n",
       "        vertical-align: top;\n",
       "    }\n",
       "\n",
       "    .dataframe thead th {\n",
       "        text-align: right;\n",
       "    }\n",
       "</style>\n",
       "<table border=\"1\" class=\"dataframe\">\n",
       "  <thead>\n",
       "    <tr style=\"text-align: right;\">\n",
       "      <th></th>\n",
       "      <th>show_id</th>\n",
       "      <th>type</th>\n",
       "      <th>date_added</th>\n",
       "      <th>release_year</th>\n",
       "      <th>rating</th>\n",
       "      <th>duration</th>\n",
       "      <th>description</th>\n",
       "      <th>title</th>\n",
       "      <th>listed_in</th>\n",
       "      <th>country</th>\n",
       "      <th>director</th>\n",
       "      <th>cast</th>\n",
       "    </tr>\n",
       "  </thead>\n",
       "  <tbody>\n",
       "  </tbody>\n",
       "</table>\n",
       "</div>"
      ],
      "text/plain": [
       "Empty DataFrame\n",
       "Columns: [show_id, type, date_added, release_year, rating, duration, description, title, listed_in, country, director, cast]\n",
       "Index: []"
      ]
     },
     "execution_count": 1276,
     "metadata": {},
     "output_type": "execute_result"
    }
   ],
   "source": [
    "data_final.loc[data_final[\"date_added\"].isnull()]"
   ]
  },
  {
   "cell_type": "code",
   "execution_count": 1277,
   "id": "301344e8",
   "metadata": {},
   "outputs": [
    {
     "data": {
      "text/plain": [
       "show_id             0\n",
       "type                0\n",
       "date_added          0\n",
       "release_year        0\n",
       "rating             67\n",
       "duration            3\n",
       "description         0\n",
       "title               0\n",
       "listed_in           0\n",
       "country         11897\n",
       "director            0\n",
       "cast                0\n",
       "dtype: int64"
      ]
     },
     "execution_count": 1277,
     "metadata": {},
     "output_type": "execute_result"
    }
   ],
   "source": [
    "data_final.isnull().sum()"
   ]
  },
  {
   "cell_type": "markdown",
   "id": "2fa3ad8d",
   "metadata": {},
   "source": [
    "#### Handling the rating and duration missing values"
   ]
  },
  {
   "cell_type": "code",
   "execution_count": 1278,
   "id": "cecf1753",
   "metadata": {},
   "outputs": [
    {
     "data": {
      "text/html": [
       "<div>\n",
       "<style scoped>\n",
       "    .dataframe tbody tr th:only-of-type {\n",
       "        vertical-align: middle;\n",
       "    }\n",
       "\n",
       "    .dataframe tbody tr th {\n",
       "        vertical-align: top;\n",
       "    }\n",
       "\n",
       "    .dataframe thead th {\n",
       "        text-align: right;\n",
       "    }\n",
       "</style>\n",
       "<table border=\"1\" class=\"dataframe\">\n",
       "  <thead>\n",
       "    <tr style=\"text-align: right;\">\n",
       "      <th></th>\n",
       "      <th>show_id</th>\n",
       "      <th>type</th>\n",
       "      <th>date_added</th>\n",
       "      <th>release_year</th>\n",
       "      <th>rating</th>\n",
       "      <th>duration</th>\n",
       "      <th>description</th>\n",
       "      <th>title</th>\n",
       "      <th>listed_in</th>\n",
       "      <th>country</th>\n",
       "      <th>director</th>\n",
       "      <th>cast</th>\n",
       "    </tr>\n",
       "  </thead>\n",
       "  <tbody>\n",
       "    <tr>\n",
       "      <th>126488</th>\n",
       "      <td>s5542</td>\n",
       "      <td>Movie</td>\n",
       "      <td>April 4, 2017</td>\n",
       "      <td>2017</td>\n",
       "      <td>74 min</td>\n",
       "      <td>NaN</td>\n",
       "      <td>Louis C.K. muses on religion, eternal love, gi...</td>\n",
       "      <td>Louis C.K. 2017</td>\n",
       "      <td>Movies</td>\n",
       "      <td>United States</td>\n",
       "      <td>Louis C.K.</td>\n",
       "      <td>Louis C.K.</td>\n",
       "    </tr>\n",
       "    <tr>\n",
       "      <th>131554</th>\n",
       "      <td>s5795</td>\n",
       "      <td>Movie</td>\n",
       "      <td>September 16, 2016</td>\n",
       "      <td>2010</td>\n",
       "      <td>84 min</td>\n",
       "      <td>NaN</td>\n",
       "      <td>Emmy-winning comedy writer Louis C.K. brings h...</td>\n",
       "      <td>Louis C.K.: Hilarious</td>\n",
       "      <td>Movies</td>\n",
       "      <td>United States</td>\n",
       "      <td>Louis C.K.</td>\n",
       "      <td>Louis C.K.</td>\n",
       "    </tr>\n",
       "    <tr>\n",
       "      <th>131688</th>\n",
       "      <td>s5814</td>\n",
       "      <td>Movie</td>\n",
       "      <td>August 15, 2016</td>\n",
       "      <td>2015</td>\n",
       "      <td>66 min</td>\n",
       "      <td>NaN</td>\n",
       "      <td>The comic puts his trademark hilarious/thought...</td>\n",
       "      <td>Louis C.K.: Live at the Comedy Store</td>\n",
       "      <td>Movies</td>\n",
       "      <td>United States</td>\n",
       "      <td>Louis C.K.</td>\n",
       "      <td>Louis C.K.</td>\n",
       "    </tr>\n",
       "  </tbody>\n",
       "</table>\n",
       "</div>"
      ],
      "text/plain": [
       "       show_id   type          date_added  release_year  rating duration  \\\n",
       "126488   s5542  Movie       April 4, 2017          2017  74 min      NaN   \n",
       "131554   s5795  Movie  September 16, 2016          2010  84 min      NaN   \n",
       "131688   s5814  Movie     August 15, 2016          2015  66 min      NaN   \n",
       "\n",
       "                                              description  \\\n",
       "126488  Louis C.K. muses on religion, eternal love, gi...   \n",
       "131554  Emmy-winning comedy writer Louis C.K. brings h...   \n",
       "131688  The comic puts his trademark hilarious/thought...   \n",
       "\n",
       "                                       title listed_in        country  \\\n",
       "126488                       Louis C.K. 2017    Movies  United States   \n",
       "131554                 Louis C.K.: Hilarious    Movies  United States   \n",
       "131688  Louis C.K.: Live at the Comedy Store    Movies  United States   \n",
       "\n",
       "          director        cast  \n",
       "126488  Louis C.K.  Louis C.K.  \n",
       "131554  Louis C.K.  Louis C.K.  \n",
       "131688  Louis C.K.  Louis C.K.  "
      ]
     },
     "execution_count": 1278,
     "metadata": {},
     "output_type": "execute_result"
    }
   ],
   "source": [
    "data_final.loc[data_final[\"duration\"].isnull()]"
   ]
  },
  {
   "cell_type": "markdown",
   "id": "c93ea763",
   "metadata": {},
   "source": [
    "#### It looks like a data entry mistake as the rating is filled with duration values and rating should be null."
   ]
  },
  {
   "cell_type": "code",
   "execution_count": 1279,
   "id": "4e0e6670",
   "metadata": {},
   "outputs": [],
   "source": [
    "#replacing the duration column with values of rating. \n",
    "\n",
    "data_final[\"duration\"].fillna(data_final[\"rating\"], inplace=True)"
   ]
  },
  {
   "cell_type": "code",
   "execution_count": 1280,
   "id": "585a153b",
   "metadata": {},
   "outputs": [
    {
     "data": {
      "text/html": [
       "<div>\n",
       "<style scoped>\n",
       "    .dataframe tbody tr th:only-of-type {\n",
       "        vertical-align: middle;\n",
       "    }\n",
       "\n",
       "    .dataframe tbody tr th {\n",
       "        vertical-align: top;\n",
       "    }\n",
       "\n",
       "    .dataframe thead th {\n",
       "        text-align: right;\n",
       "    }\n",
       "</style>\n",
       "<table border=\"1\" class=\"dataframe\">\n",
       "  <thead>\n",
       "    <tr style=\"text-align: right;\">\n",
       "      <th></th>\n",
       "      <th>show_id</th>\n",
       "      <th>type</th>\n",
       "      <th>date_added</th>\n",
       "      <th>release_year</th>\n",
       "      <th>rating</th>\n",
       "      <th>duration</th>\n",
       "      <th>description</th>\n",
       "      <th>title</th>\n",
       "      <th>listed_in</th>\n",
       "      <th>country</th>\n",
       "      <th>director</th>\n",
       "      <th>cast</th>\n",
       "    </tr>\n",
       "  </thead>\n",
       "  <tbody>\n",
       "  </tbody>\n",
       "</table>\n",
       "</div>"
      ],
      "text/plain": [
       "Empty DataFrame\n",
       "Columns: [show_id, type, date_added, release_year, rating, duration, description, title, listed_in, country, director, cast]\n",
       "Index: []"
      ]
     },
     "execution_count": 1280,
     "metadata": {},
     "output_type": "execute_result"
    }
   ],
   "source": [
    "data_final.loc[data_final[\"duration\"].isnull()] "
   ]
  },
  {
   "cell_type": "code",
   "execution_count": 1281,
   "id": "d59a0a53",
   "metadata": {},
   "outputs": [
    {
     "data": {
      "text/plain": [
       "show_id             0\n",
       "type                0\n",
       "date_added          0\n",
       "release_year        0\n",
       "rating             67\n",
       "duration            0\n",
       "description         0\n",
       "title               0\n",
       "listed_in           0\n",
       "country         11897\n",
       "director            0\n",
       "cast                0\n",
       "dtype: int64"
      ]
     },
     "execution_count": 1281,
     "metadata": {},
     "output_type": "execute_result"
    }
   ],
   "source": [
    "data_final.isnull().sum()"
   ]
  },
  {
   "cell_type": "markdown",
   "id": "d803591c",
   "metadata": {},
   "source": [
    "#### Now replace those rating values as null by using mask concept"
   ]
  },
  {
   "cell_type": "code",
   "execution_count": 1282,
   "id": "08c467d6",
   "metadata": {},
   "outputs": [
    {
     "data": {
      "text/plain": [
       "0         False\n",
       "1         False\n",
       "2         False\n",
       "3         False\n",
       "4         False\n",
       "          ...  \n",
       "201931    False\n",
       "201932    False\n",
       "201933    False\n",
       "201934    False\n",
       "201935    False\n",
       "Name: rating, Length: 201936, dtype: bool"
      ]
     },
     "execution_count": 1282,
     "metadata": {},
     "output_type": "execute_result"
    }
   ],
   "source": [
    "mask = (data_final['rating'] == '74 min') | (data_final['rating'] == '84 min') | (data_final['rating'] == '66 min')\n",
    "mask"
   ]
  },
  {
   "cell_type": "code",
   "execution_count": 1283,
   "id": "86b15939",
   "metadata": {},
   "outputs": [],
   "source": [
    "data_final.loc[mask, 'rating'] = np.nan"
   ]
  },
  {
   "cell_type": "code",
   "execution_count": 1284,
   "id": "7d8bf202",
   "metadata": {},
   "outputs": [
    {
     "data": {
      "text/plain": [
       "array(['PG-13', 'TV-MA', 'PG', 'TV-14', 'TV-PG', 'TV-Y', 'TV-Y7', 'R',\n",
       "       'TV-G', 'G', 'NC-17', nan, 'NR', 'TV-Y7-FV', 'UR'], dtype=object)"
      ]
     },
     "execution_count": 1284,
     "metadata": {},
     "output_type": "execute_result"
    }
   ],
   "source": [
    "data_final[\"rating\"].unique()"
   ]
  },
  {
   "cell_type": "markdown",
   "id": "208195af",
   "metadata": {},
   "source": [
    "### Lets work on rating null values"
   ]
  },
  {
   "cell_type": "code",
   "execution_count": 1285,
   "id": "366d7c48",
   "metadata": {},
   "outputs": [
    {
     "data": {
      "text/plain": [
       "show_id             0\n",
       "type                0\n",
       "date_added          0\n",
       "release_year        0\n",
       "rating             70\n",
       "duration            0\n",
       "description         0\n",
       "title               0\n",
       "listed_in           0\n",
       "country         11897\n",
       "director            0\n",
       "cast                0\n",
       "dtype: int64"
      ]
     },
     "execution_count": 1285,
     "metadata": {},
     "output_type": "execute_result"
    }
   ],
   "source": [
    "data_final.isnull().sum()"
   ]
  },
  {
   "cell_type": "code",
   "execution_count": 1286,
   "id": "ecfaeba4",
   "metadata": {},
   "outputs": [
    {
     "data": {
      "text/plain": [
       "type\n",
       "TV Show    58\n",
       "Movie      12\n",
       "Name: count, dtype: int64"
      ]
     },
     "execution_count": 1286,
     "metadata": {},
     "output_type": "execute_result"
    }
   ],
   "source": [
    "#check among null values of rating which type is more?\n",
    "data_final.loc[data_final[\"rating\"].isnull()][\"type\"].value_counts()"
   ]
  },
  {
   "cell_type": "code",
   "execution_count": 1287,
   "id": "6c4cebb6",
   "metadata": {},
   "outputs": [
    {
     "data": {
      "text/plain": [
       "type     rating  \n",
       "Movie    G            1530\n",
       "         NC-17         149\n",
       "         NR           1418\n",
       "         PG          10919\n",
       "         PG-13       16246\n",
       "         R           25805\n",
       "         TV-14       29234\n",
       "         TV-G         1738\n",
       "         TV-MA       43913\n",
       "         TV-PG       10312\n",
       "         TV-Y         1878\n",
       "         TV-Y7        2486\n",
       "         TV-Y7-FV       62\n",
       "         UR             86\n",
       "TV Show  NR            155\n",
       "         R              54\n",
       "         TV-14       14691\n",
       "         TV-G         1041\n",
       "         TV-MA       29906\n",
       "         TV-PG        4614\n",
       "         TV-Y         1787\n",
       "         TV-Y7        3818\n",
       "         TV-Y7-FV       24\n",
       "Name: rating, dtype: int64"
      ]
     },
     "execution_count": 1287,
     "metadata": {},
     "output_type": "execute_result"
    }
   ],
   "source": [
    "#from the data_final. check by grouping type and rating which is have more counts to replace those with null values\n",
    "data_final.groupby([\"type\",\"rating\"])[\"rating\"].count()"
   ]
  },
  {
   "cell_type": "markdown",
   "id": "414787ae",
   "metadata": {},
   "source": [
    "### INSIGHT:\n",
    "\n",
    "- So from the above grouping result, we notice that from the \"Movie\" type, TV-MA is the most common rating. \n",
    "- From the \"TV show\" type, TV-MA is the most common rating as well \n",
    "- So for the missing null values of rating column, we will replace those values with most common rating based on the type of show."
   ]
  },
  {
   "cell_type": "code",
   "execution_count": 1288,
   "id": "f774689f",
   "metadata": {},
   "outputs": [],
   "source": [
    "#lets do for the movie type first using masking\n",
    "\n",
    "condition1 = (data_final[\"type\"] ==\"Movie\") & (data_final[\"rating\"].isnull())\n",
    "data_final.loc[condition1,\"rating\"] = \"TV-MA\"\n"
   ]
  },
  {
   "cell_type": "code",
   "execution_count": 1289,
   "id": "f8003888",
   "metadata": {},
   "outputs": [],
   "source": [
    "#lets do for the TV show type \n",
    "\n",
    "condition2 = (data_final[\"type\"]==\"TV Show\") & (data_final[\"rating\"].isnull())\n",
    "data_final.loc[condition2,\"rating\"] = \"TV-MA\""
   ]
  },
  {
   "cell_type": "code",
   "execution_count": 1290,
   "id": "d0ce3367",
   "metadata": {},
   "outputs": [
    {
     "data": {
      "text/plain": [
       "show_id             0\n",
       "type                0\n",
       "date_added          0\n",
       "release_year        0\n",
       "rating              0\n",
       "duration            0\n",
       "description         0\n",
       "title               0\n",
       "listed_in           0\n",
       "country         11897\n",
       "director            0\n",
       "cast                0\n",
       "dtype: int64"
      ]
     },
     "execution_count": 1290,
     "metadata": {},
     "output_type": "execute_result"
    }
   ],
   "source": [
    "data_final.isnull().sum()"
   ]
  },
  {
   "cell_type": "markdown",
   "id": "989faa76",
   "metadata": {},
   "source": [
    "### Moving onto the country column null values and handling them"
   ]
  },
  {
   "cell_type": "code",
   "execution_count": 1291,
   "id": "b88c9855",
   "metadata": {},
   "outputs": [
    {
     "data": {
      "text/plain": [
       "11897"
      ]
     },
     "execution_count": 1291,
     "metadata": {},
     "output_type": "execute_result"
    }
   ],
   "source": [
    "data_final[\"country\"].isnull().sum()"
   ]
  },
  {
   "cell_type": "markdown",
   "id": "377f2bcd",
   "metadata": {},
   "source": [
    "####  Replaced all the Nan values in the country column with United States as Netflix was created in the USA and every show is aired on Netflix US. So instead of dropping the whole column we just replaced the values in it in order to save our data. Majority of show country is from US, so we replace with the same instead dropping the column"
   ]
  },
  {
   "cell_type": "code",
   "execution_count": 1292,
   "id": "0952a1c4",
   "metadata": {},
   "outputs": [
    {
     "data": {
      "text/plain": [
       "country\n",
       "United States     59324\n",
       "India             22814\n",
       "United Kingdom    12945\n",
       "Japan              8679\n",
       "France             8252\n",
       "                  ...  \n",
       "Palestine             2\n",
       "Kazakhstan            1\n",
       "Nicaragua             1\n",
       "United States,        1\n",
       "Uganda                1\n",
       "Name: count, Length: 127, dtype: int64"
      ]
     },
     "execution_count": 1292,
     "metadata": {},
     "output_type": "execute_result"
    }
   ],
   "source": [
    "data_final[\"country\"].value_counts()"
   ]
  },
  {
   "cell_type": "code",
   "execution_count": 1293,
   "id": "43656ea5",
   "metadata": {},
   "outputs": [],
   "source": [
    "data_final[\"country\"].fillna(\"United States\",inplace=True)"
   ]
  },
  {
   "cell_type": "code",
   "execution_count": 1294,
   "id": "fe0cb482",
   "metadata": {},
   "outputs": [
    {
     "data": {
      "text/plain": [
       "0"
      ]
     },
     "execution_count": 1294,
     "metadata": {},
     "output_type": "execute_result"
    }
   ],
   "source": [
    "data_final[\"country\"].isnull().sum()"
   ]
  },
  {
   "cell_type": "markdown",
   "id": "7d1ba579",
   "metadata": {},
   "source": [
    "*************************************************************************************************************************"
   ]
  },
  {
   "cell_type": "markdown",
   "id": "0f2636de",
   "metadata": {},
   "source": [
    "## Basic EDA  - shape,info, basic stats, attributes value counts"
   ]
  },
  {
   "cell_type": "code",
   "execution_count": 1295,
   "id": "1f381d03",
   "metadata": {},
   "outputs": [
    {
     "data": {
      "text/plain": [
       "(201936, 12)"
      ]
     },
     "execution_count": 1295,
     "metadata": {},
     "output_type": "execute_result"
    }
   ],
   "source": [
    "data_final.shape"
   ]
  },
  {
   "cell_type": "code",
   "execution_count": 1296,
   "id": "60d3f0b6",
   "metadata": {},
   "outputs": [
    {
     "data": {
      "text/plain": [
       "201936"
      ]
     },
     "execution_count": 1296,
     "metadata": {},
     "output_type": "execute_result"
    }
   ],
   "source": [
    "len(data_final)"
   ]
  },
  {
   "cell_type": "code",
   "execution_count": 1297,
   "id": "bebc5df4",
   "metadata": {
    "scrolled": true
   },
   "outputs": [
    {
     "name": "stdout",
     "output_type": "stream",
     "text": [
      "<class 'pandas.core.frame.DataFrame'>\n",
      "RangeIndex: 201936 entries, 0 to 201935\n",
      "Data columns (total 12 columns):\n",
      " #   Column        Non-Null Count   Dtype \n",
      "---  ------        --------------   ----- \n",
      " 0   show_id       201936 non-null  object\n",
      " 1   type          201936 non-null  object\n",
      " 2   date_added    201936 non-null  object\n",
      " 3   release_year  201936 non-null  int64 \n",
      " 4   rating        201936 non-null  object\n",
      " 5   duration      201936 non-null  object\n",
      " 6   description   201936 non-null  object\n",
      " 7   title         201936 non-null  object\n",
      " 8   listed_in     201936 non-null  object\n",
      " 9   country       201936 non-null  object\n",
      " 10  director      201936 non-null  object\n",
      " 11  cast          201936 non-null  object\n",
      "dtypes: int64(1), object(11)\n",
      "memory usage: 18.5+ MB\n"
     ]
    }
   ],
   "source": [
    "data_final.info() #no null values"
   ]
  },
  {
   "cell_type": "code",
   "execution_count": 1298,
   "id": "3ee8d718",
   "metadata": {},
   "outputs": [
    {
     "data": {
      "text/plain": [
       "1925"
      ]
     },
     "execution_count": 1298,
     "metadata": {},
     "output_type": "execute_result"
    }
   ],
   "source": [
    "data_final[\"release_year\"].min()"
   ]
  },
  {
   "cell_type": "code",
   "execution_count": 1299,
   "id": "3b1b39c6",
   "metadata": {
    "scrolled": true
   },
   "outputs": [
    {
     "data": {
      "text/plain": [
       "2021"
      ]
     },
     "execution_count": 1299,
     "metadata": {},
     "output_type": "execute_result"
    }
   ],
   "source": [
    "data_final[\"release_year\"].max()"
   ]
  },
  {
   "cell_type": "code",
   "execution_count": 1300,
   "id": "fbfbc71e",
   "metadata": {},
   "outputs": [
    {
     "data": {
      "text/plain": [
       "' April 15, 2018'"
      ]
     },
     "execution_count": 1300,
     "metadata": {},
     "output_type": "execute_result"
    }
   ],
   "source": [
    "data_final[\"date_added\"].min()"
   ]
  },
  {
   "cell_type": "code",
   "execution_count": 1301,
   "id": "fe8a3b7b",
   "metadata": {},
   "outputs": [
    {
     "data": {
      "text/plain": [
       "'September 9, 2021'"
      ]
     },
     "execution_count": 1301,
     "metadata": {},
     "output_type": "execute_result"
    }
   ],
   "source": [
    "data_final[\"date_added\"].max()"
   ]
  },
  {
   "cell_type": "code",
   "execution_count": 1302,
   "id": "2987bceb",
   "metadata": {},
   "outputs": [
    {
     "data": {
      "text/plain": [
       "Index(['show_id', 'type', 'date_added', 'release_year', 'rating', 'duration',\n",
       "       'description', 'title', 'listed_in', 'country', 'director', 'cast'],\n",
       "      dtype='object')"
      ]
     },
     "execution_count": 1302,
     "metadata": {},
     "output_type": "execute_result"
    }
   ],
   "source": [
    "data_final.columns"
   ]
  },
  {
   "cell_type": "code",
   "execution_count": 1303,
   "id": "dd11321f",
   "metadata": {},
   "outputs": [
    {
     "data": {
      "text/plain": [
       "array(['Movie', 'TV Show'], dtype=object)"
      ]
     },
     "execution_count": 1303,
     "metadata": {},
     "output_type": "execute_result"
    }
   ],
   "source": [
    "data_final[\"type\"].unique()"
   ]
  },
  {
   "cell_type": "code",
   "execution_count": 1304,
   "id": "49ea8ace",
   "metadata": {},
   "outputs": [
    {
     "data": {
      "text/plain": [
       "array(['PG-13', 'TV-MA', 'PG', 'TV-14', 'TV-PG', 'TV-Y', 'TV-Y7', 'R',\n",
       "       'TV-G', 'G', 'NC-17', 'NR', 'TV-Y7-FV', 'UR'], dtype=object)"
      ]
     },
     "execution_count": 1304,
     "metadata": {},
     "output_type": "execute_result"
    }
   ],
   "source": [
    "data_final[\"rating\"].unique()"
   ]
  },
  {
   "cell_type": "code",
   "execution_count": 1305,
   "id": "bdf7df78",
   "metadata": {},
   "outputs": [
    {
     "data": {
      "text/plain": [
       "array(['Documentaries', 'International TV Shows', 'TV Dramas',\n",
       "       'TV Mysteries', 'Crime TV Shows', 'TV Action & Adventure',\n",
       "       'Docuseries', 'Reality TV', 'Romantic TV Shows', 'TV Comedies',\n",
       "       'TV Horror', 'Children & Family Movies', 'Dramas',\n",
       "       'Independent Movies', 'International Movies', 'British TV Shows',\n",
       "       'Comedies', 'Spanish-Language TV Shows', 'Thrillers',\n",
       "       'Romantic Movies', 'Music & Musicals', 'Horror Movies',\n",
       "       'Sci-Fi & Fantasy', 'TV Thrillers', \"Kids' TV\",\n",
       "       'Action & Adventure', 'TV Sci-Fi & Fantasy', 'Classic Movies',\n",
       "       'Anime Features', 'Sports Movies', 'Anime Series',\n",
       "       'Korean TV Shows', 'Science & Nature TV', 'Teen TV Shows',\n",
       "       'Cult Movies', 'TV Shows', 'Faith & Spirituality', 'LGBTQ Movies',\n",
       "       'Stand-Up Comedy', 'Movies', 'Stand-Up Comedy & Talk Shows',\n",
       "       'Classic & Cult TV'], dtype=object)"
      ]
     },
     "execution_count": 1305,
     "metadata": {},
     "output_type": "execute_result"
    }
   ],
   "source": [
    "data_final[\"listed_in\"].unique()"
   ]
  },
  {
   "cell_type": "code",
   "execution_count": 1306,
   "id": "5fdd78b2",
   "metadata": {},
   "outputs": [
    {
     "data": {
      "text/plain": [
       "listed_in\n",
       "Dramas                    29756\n",
       "International Movies      28192\n",
       "Comedies                  20829\n",
       "International TV Shows    12845\n",
       "Action & Adventure        12216\n",
       "Name: count, dtype: int64"
      ]
     },
     "execution_count": 1306,
     "metadata": {},
     "output_type": "execute_result"
    }
   ],
   "source": [
    "data_final[\"listed_in\"].value_counts().head()"
   ]
  },
  {
   "cell_type": "code",
   "execution_count": 1307,
   "id": "867852f3",
   "metadata": {
    "scrolled": false
   },
   "outputs": [
    {
     "data": {
      "text/plain": [
       "country\n",
       "United States     71221\n",
       "India             22814\n",
       "United Kingdom    12945\n",
       "Japan              8679\n",
       "France             8252\n",
       "Name: count, dtype: int64"
      ]
     },
     "execution_count": 1307,
     "metadata": {},
     "output_type": "execute_result"
    }
   ],
   "source": [
    "data_final[\"country\"].value_counts().head()"
   ]
  },
  {
   "cell_type": "markdown",
   "id": "46741123",
   "metadata": {},
   "source": [
    "**************************************************************************************************************************"
   ]
  },
  {
   "cell_type": "markdown",
   "id": "84be722f",
   "metadata": {},
   "source": [
    "# Data Analysis & Visualization"
   ]
  },
  {
   "cell_type": "code",
   "execution_count": 1308,
   "id": "974f71ef",
   "metadata": {
    "scrolled": false
   },
   "outputs": [
    {
     "data": {
      "text/html": [
       "<div>\n",
       "<style scoped>\n",
       "    .dataframe tbody tr th:only-of-type {\n",
       "        vertical-align: middle;\n",
       "    }\n",
       "\n",
       "    .dataframe tbody tr th {\n",
       "        vertical-align: top;\n",
       "    }\n",
       "\n",
       "    .dataframe thead th {\n",
       "        text-align: right;\n",
       "    }\n",
       "</style>\n",
       "<table border=\"1\" class=\"dataframe\">\n",
       "  <thead>\n",
       "    <tr style=\"text-align: right;\">\n",
       "      <th></th>\n",
       "      <th>type</th>\n",
       "      <th>show_id</th>\n",
       "    </tr>\n",
       "  </thead>\n",
       "  <tbody>\n",
       "    <tr>\n",
       "      <th>0</th>\n",
       "      <td>Movie</td>\n",
       "      <td>6131</td>\n",
       "    </tr>\n",
       "    <tr>\n",
       "      <th>1</th>\n",
       "      <td>TV Show</td>\n",
       "      <td>2676</td>\n",
       "    </tr>\n",
       "  </tbody>\n",
       "</table>\n",
       "</div>"
      ],
      "text/plain": [
       "      type  show_id\n",
       "0    Movie     6131\n",
       "1  TV Show     2676"
      ]
     },
     "execution_count": 1308,
     "metadata": {},
     "output_type": "execute_result"
    }
   ],
   "source": [
    "unique_shows = data_final.groupby(\"type\")[\"show_id\"].nunique().reset_index()\n",
    "unique_shows"
   ]
  },
  {
   "cell_type": "code",
   "execution_count": 1311,
   "id": "56cf8661",
   "metadata": {},
   "outputs": [
    {
     "data": {
      "image/png": "[encoded data removed]",
      "text/plain": [
       "<Figure size 640x480 with 1 Axes>"
      ]
     },
     "metadata": {},
     "output_type": "display_data"
    }
   ],
   "source": [
    "sns.barplot(x=\"type\", y=\"show_id\", data=unique_shows, palette='Set1')\n",
    "sns.despine()\n",
    "plt.title(\"Total Count of Movies & TV Shows\")\n",
    "plt.show()"
   ]
  },
  {
   "cell_type": "markdown",
   "id": "cd732f64",
   "metadata": {},
   "source": [
    "### INSIGHTS - Plot 1- It shows the number of Movies and TV shows present in the dataset. The plot shows that there are more Movies than TV shows in the given Netflix dataset."
   ]
  },
  {
   "cell_type": "code",
   "execution_count": 1312,
   "id": "37ffff2d",
   "metadata": {},
   "outputs": [
    {
     "data": {
      "image/png": "[encoded data removed]",
      "text/plain": [
       "<Figure size 800x500 with 1 Axes>"
      ]
     },
     "metadata": {},
     "output_type": "display_data"
    }
   ],
   "source": [
    "shows_by_rating = data_final.groupby(\"rating\")[\"show_id\"].nunique().reset_index()\n",
    "plt.figure(figsize=(8,5))\n",
    "plt.title(\"Total Movies/TV Shows By Rating\")\n",
    "sns.barplot(x=\"rating\",y =\"show_id\", data=shows_by_rating)\n",
    "plt.xticks(rotation=90)\n",
    "plt.ylabel(\"shows count\")\n",
    "plt.show()"
   ]
  },
  {
   "cell_type": "markdown",
   "id": "936b802a",
   "metadata": {},
   "source": [
    "###  INSIGHTS Plot 2- It shows the number of  unique shows by ‘rating’ column. The plot shows that the most frequent rating in the dataset is TV-MA, followed by TV-14, TV-PG and R."
   ]
  },
  {
   "cell_type": "code",
   "execution_count": 1313,
   "id": "58d95a2d",
   "metadata": {},
   "outputs": [
    {
     "data": {
      "image/png": "[encoded data removed]",
      "text/plain": [
       "<Figure size 1200x600 with 1 Axes>"
      ]
     },
     "metadata": {},
     "output_type": "display_data"
    }
   ],
   "source": [
    "shows_by_rating_type = data_final.groupby([\"rating\",\"type\"])[\"show_id\"].nunique().reset_index()\n",
    "plt.figure(figsize=(12, 6))\n",
    "plt.title(\"Number of Unique Shows by Rating and Type\")\n",
    "sns.barplot(x=\"rating\", y=\"show_id\", hue=\"type\", data=shows_by_rating_type, palette='Set1')\n",
    "plt.xlabel('Rating')\n",
    "plt.ylabel('Number of Unique Shows')\n",
    "plt.xticks(rotation=90)\n",
    "plt.legend(title=\"Type\",loc =\"upper right\")  \n",
    "plt.show()"
   ]
  },
  {
   "cell_type": "markdown",
   "id": "888827dd",
   "metadata": {},
   "source": [
    "### INSIGHTS Plot 3- is a bar plot of the ‘rating’ column of the DataFrame, with the hue set to the ‘type’ column. This plot shows the number of occurrences of each unique value in the ‘rating’ column, broken down by the type of content (i.e., Movie or TV show). This plot allows us to see how the distribution of ratings differs between Movies and TV shows. We can see that the rating TV-MA is more common in movies than tv shows followed by TV-14"
   ]
  },
  {
   "cell_type": "code",
   "execution_count": 1315,
   "id": "648bf06b",
   "metadata": {},
   "outputs": [
    {
     "data": {
      "image/png": "[encoded data removed]",
      "text/plain": [
       "<Figure size 900x400 with 1 Axes>"
      ]
     },
     "metadata": {},
     "output_type": "display_data"
    }
   ],
   "source": [
    "shows_by_country = data_final.groupby(\"country\")[\"show_id\"].nunique().reset_index().sort_values(\"show_id\",ascending=False).head(10)\n",
    "shows_by_country\n",
    "plt.figure(figsize=(9,4))\n",
    "plt.title(\"Top 10 - Total Movies/TV Shows Released By Country\")\n",
    "sns.barplot(x=\"country\",y=\"show_id\", data=shows_by_country)\n",
    "plt.xticks(rotation=45)\n",
    "plt.show()"
   ]
  },
  {
   "cell_type": "code",
   "execution_count": 1316,
   "id": "a471b256",
   "metadata": {},
   "outputs": [
    {
     "data": {
      "image/png": "[encoded data removed]",
      "text/plain": [
       "<Figure size 1000x400 with 1 Axes>"
      ]
     },
     "metadata": {},
     "output_type": "display_data"
    }
   ],
   "source": [
    "top10_country_movies = data_final.loc[data_final[\"type\"]==\"Movie\"]\n",
    "top10_country_movies = top10_country_movies.groupby(\"country\")[\"show_id\"].nunique().reset_index().sort_values(\"show_id\",ascending=False).head(10)\n",
    "plt.figure(figsize=(10,4))\n",
    "sns.barplot(x=\"country\",y=\"show_id\",data = top10_country_movies )\n",
    "plt.title(\"Top 10 Countries Produced By Movie Category\")\n",
    "plt.xticks(rotation=90)\n",
    "plt.ylabel(\"Number of Shows\")\n",
    "plt.show()"
   ]
  },
  {
   "cell_type": "code",
   "execution_count": 1317,
   "id": "f494496a",
   "metadata": {},
   "outputs": [
    {
     "data": {
      "image/png": "[encoded data removed]",
      "text/plain": [
       "<Figure size 1000x400 with 1 Axes>"
      ]
     },
     "metadata": {},
     "output_type": "display_data"
    }
   ],
   "source": [
    "top10_country_tvshows = data_final.loc[data_final[\"type\"]==\"TV Show\"]\n",
    "top10_country_tvshows = top10_country_tvshows.groupby(\"country\")[\"show_id\"].nunique().reset_index().sort_values(\"show_id\",ascending=False).head(10)\n",
    "plt.figure(figsize=(10,4))\n",
    "sns.barplot(x=\"country\",y=\"show_id\",data = top10_country_tvshows, palette = \"deep\" )\n",
    "plt.title(\"Top 10 Countries Produced By TV Shows Category\")\n",
    "plt.xticks(rotation=90)\n",
    "plt.ylabel(\"Number of Shows\")\n",
    "plt.show()"
   ]
  },
  {
   "cell_type": "markdown",
   "id": "1db9d11e",
   "metadata": {},
   "source": [
    "### INSIGHTS Plot 4-  This plot shows the top 10 ‘country’ with most shows (i.e., Movie and TV show together). This plot allows us to see US have more number of shows followed by India, UK and others. The below subplots shows the breakup by top 10 countries produced by type of movie and tv shows category as well. In both category US dominates followed by India in movie category and UK in TV shows. "
   ]
  },
  {
   "cell_type": "code",
   "execution_count": 1318,
   "id": "fbd03a9e",
   "metadata": {
    "scrolled": false
   },
   "outputs": [
    {
     "data": {
      "image/png": "[encoded data removed]",
      "text/plain": [
       "<Figure size 1000x400 with 1 Axes>"
      ]
     },
     "metadata": {},
     "output_type": "display_data"
    }
   ],
   "source": [
    "shows_by_year = data_final.groupby(\"release_year\")[\"show_id\"].nunique().reset_index().sort_values(\"show_id\",ascending=False).head(20)\n",
    "plt.figure(figsize=(10,4))\n",
    "plt.title(\"Top 20 - Frequency of Movies/TV Shows Released By Year\")\n",
    "sns.barplot(x=\"release_year\",y=\"show_id\", data=shows_by_year)\n",
    "plt.xticks(rotation=45)\n",
    "plt.show()"
   ]
  },
  {
   "cell_type": "code",
   "execution_count": 929,
   "id": "740690b5",
   "metadata": {
    "scrolled": false
   },
   "outputs": [
    {
     "data": {
      "image/png": "[encoded data removed]",
      "text/plain": [
       "<Figure size 640x480 with 1 Axes>"
      ]
     },
     "metadata": {},
     "output_type": "display_data"
    }
   ],
   "source": [
    "all_years = data_final.groupby(\"release_year\")[\"show_id\"].nunique().reset_index().sort_values(\"show_id\",ascending=False)\n",
    "sns.histplot(all_years[\"release_year\"], bins =5)\n",
    "plt.show()"
   ]
  },
  {
   "cell_type": "markdown",
   "id": "4a5ba105",
   "metadata": {},
   "source": [
    "### INSIGHTS Plot 5 - This bar plot shows the frequency of Movies & TV shows released in different years. The plot shows the 20 most common years with the count of Movies & TV shows together for each year shown on the y-axis. 2018 is the year where most number of movies and shows being released followed by others. So from the plot its evident that from 2015 onwards more number of shows started releasing. \n",
    "\n",
    "### Histogram depicts the univariante distribution of movies across released years."
   ]
  },
  {
   "cell_type": "code",
   "execution_count": 1319,
   "id": "17b119c2",
   "metadata": {
    "scrolled": false
   },
   "outputs": [
    {
     "data": {
      "text/html": [
       "<div>\n",
       "<style scoped>\n",
       "    .dataframe tbody tr th:only-of-type {\n",
       "        vertical-align: middle;\n",
       "    }\n",
       "\n",
       "    .dataframe tbody tr th {\n",
       "        vertical-align: top;\n",
       "    }\n",
       "\n",
       "    .dataframe thead th {\n",
       "        text-align: right;\n",
       "    }\n",
       "</style>\n",
       "<table border=\"1\" class=\"dataframe\">\n",
       "  <thead>\n",
       "    <tr style=\"text-align: right;\">\n",
       "      <th></th>\n",
       "      <th>show_id</th>\n",
       "      <th>type</th>\n",
       "      <th>date_added</th>\n",
       "      <th>release_year</th>\n",
       "      <th>rating</th>\n",
       "      <th>duration</th>\n",
       "      <th>description</th>\n",
       "      <th>title</th>\n",
       "      <th>listed_in</th>\n",
       "      <th>country</th>\n",
       "      <th>director</th>\n",
       "      <th>cast</th>\n",
       "    </tr>\n",
       "  </thead>\n",
       "  <tbody>\n",
       "    <tr>\n",
       "      <th>0</th>\n",
       "      <td>s1</td>\n",
       "      <td>Movie</td>\n",
       "      <td>September 25, 2021</td>\n",
       "      <td>2020</td>\n",
       "      <td>PG-13</td>\n",
       "      <td>90 min</td>\n",
       "      <td>As her father nears the end of his life, filmm...</td>\n",
       "      <td>Dick Johnson Is Dead</td>\n",
       "      <td>Documentaries</td>\n",
       "      <td>United States</td>\n",
       "      <td>Kirsten Johnson</td>\n",
       "      <td>Unknown Cast</td>\n",
       "    </tr>\n",
       "    <tr>\n",
       "      <th>1</th>\n",
       "      <td>s2</td>\n",
       "      <td>TV Show</td>\n",
       "      <td>September 24, 2021</td>\n",
       "      <td>2021</td>\n",
       "      <td>TV-MA</td>\n",
       "      <td>2 Seasons</td>\n",
       "      <td>After crossing paths at a party, a Cape Town t...</td>\n",
       "      <td>Blood &amp; Water</td>\n",
       "      <td>International TV Shows</td>\n",
       "      <td>South Africa</td>\n",
       "      <td>Unknown Director</td>\n",
       "      <td>Ama Qamata</td>\n",
       "    </tr>\n",
       "    <tr>\n",
       "      <th>2</th>\n",
       "      <td>s2</td>\n",
       "      <td>TV Show</td>\n",
       "      <td>September 24, 2021</td>\n",
       "      <td>2021</td>\n",
       "      <td>TV-MA</td>\n",
       "      <td>2 Seasons</td>\n",
       "      <td>After crossing paths at a party, a Cape Town t...</td>\n",
       "      <td>Blood &amp; Water</td>\n",
       "      <td>International TV Shows</td>\n",
       "      <td>South Africa</td>\n",
       "      <td>Unknown Director</td>\n",
       "      <td>Khosi Ngema</td>\n",
       "    </tr>\n",
       "    <tr>\n",
       "      <th>3</th>\n",
       "      <td>s2</td>\n",
       "      <td>TV Show</td>\n",
       "      <td>September 24, 2021</td>\n",
       "      <td>2021</td>\n",
       "      <td>TV-MA</td>\n",
       "      <td>2 Seasons</td>\n",
       "      <td>After crossing paths at a party, a Cape Town t...</td>\n",
       "      <td>Blood &amp; Water</td>\n",
       "      <td>International TV Shows</td>\n",
       "      <td>South Africa</td>\n",
       "      <td>Unknown Director</td>\n",
       "      <td>Gail Mabalane</td>\n",
       "    </tr>\n",
       "    <tr>\n",
       "      <th>4</th>\n",
       "      <td>s2</td>\n",
       "      <td>TV Show</td>\n",
       "      <td>September 24, 2021</td>\n",
       "      <td>2021</td>\n",
       "      <td>TV-MA</td>\n",
       "      <td>2 Seasons</td>\n",
       "      <td>After crossing paths at a party, a Cape Town t...</td>\n",
       "      <td>Blood &amp; Water</td>\n",
       "      <td>International TV Shows</td>\n",
       "      <td>South Africa</td>\n",
       "      <td>Unknown Director</td>\n",
       "      <td>Thabang Molaba</td>\n",
       "    </tr>\n",
       "  </tbody>\n",
       "</table>\n",
       "</div>"
      ],
      "text/plain": [
       "  show_id     type          date_added  release_year rating   duration  \\\n",
       "0      s1    Movie  September 25, 2021          2020  PG-13     90 min   \n",
       "1      s2  TV Show  September 24, 2021          2021  TV-MA  2 Seasons   \n",
       "2      s2  TV Show  September 24, 2021          2021  TV-MA  2 Seasons   \n",
       "3      s2  TV Show  September 24, 2021          2021  TV-MA  2 Seasons   \n",
       "4      s2  TV Show  September 24, 2021          2021  TV-MA  2 Seasons   \n",
       "\n",
       "                                         description                 title  \\\n",
       "0  As her father nears the end of his life, filmm...  Dick Johnson Is Dead   \n",
       "1  After crossing paths at a party, a Cape Town t...         Blood & Water   \n",
       "2  After crossing paths at a party, a Cape Town t...         Blood & Water   \n",
       "3  After crossing paths at a party, a Cape Town t...         Blood & Water   \n",
       "4  After crossing paths at a party, a Cape Town t...         Blood & Water   \n",
       "\n",
       "                listed_in        country          director            cast  \n",
       "0           Documentaries  United States   Kirsten Johnson    Unknown Cast  \n",
       "1  International TV Shows   South Africa  Unknown Director      Ama Qamata  \n",
       "2  International TV Shows   South Africa  Unknown Director     Khosi Ngema  \n",
       "3  International TV Shows   South Africa  Unknown Director   Gail Mabalane  \n",
       "4  International TV Shows   South Africa  Unknown Director  Thabang Molaba  "
      ]
     },
     "execution_count": 1319,
     "metadata": {},
     "output_type": "execute_result"
    }
   ],
   "source": [
    "data_final.head()"
   ]
  },
  {
   "cell_type": "code",
   "execution_count": 1320,
   "id": "f90e9d33",
   "metadata": {
    "scrolled": false
   },
   "outputs": [
    {
     "data": {
      "image/png": "[encoded data removed]",
      "text/plain": [
       "<Figure size 1000x400 with 1 Axes>"
      ]
     },
     "metadata": {},
     "output_type": "display_data"
    }
   ],
   "source": [
    "extract = data_final.loc[data_final[\"release_year\"]>=2015]\n",
    "extract = extract.groupby([\"release_year\",\"type\"])[\"show_id\"].nunique().reset_index()\n",
    "plt.figure(figsize=(10,4))\n",
    "plt.title(\"Number of Shows by Type Released From 2015-2021\")\n",
    "sns.barplot(x=\"release_year\",y=\"show_id\",hue=\"type\",data=extract, palette = [\"red\",\"black\"])\n",
    "plt.xlabel(\"Release Year\")\n",
    "plt.ylabel(\"Number of Shows\")\n",
    "plt.show()"
   ]
  },
  {
   "cell_type": "markdown",
   "id": "9a0f0f8a",
   "metadata": {},
   "source": [
    "### INSIGHTS Plot 6 - So its observed from 2015 till 2021 majority of shows released were movies. Majority was released in 2017 and 2018. But for the year 2021 till available date as per dataset, more TV shows were released than movies"
   ]
  },
  {
   "cell_type": "code",
   "execution_count": 1321,
   "id": "e48c7938",
   "metadata": {},
   "outputs": [
    {
     "data": {
      "image/png": "[encoded data removed]",
      "text/plain": [
       "<Figure size 1000x400 with 1 Axes>"
      ]
     },
     "metadata": {},
     "output_type": "display_data"
    }
   ],
   "source": [
    "top10_genre_movies = data_final.loc[data_final[\"type\"]==\"Movie\"]\n",
    "top10_genre_movies = top10_genre_movies.groupby(\"listed_in\")[\"show_id\"].nunique().reset_index().sort_values(\"show_id\",ascending=False).head(10)\n",
    "plt.figure(figsize=(10,4))\n",
    "sns.barplot(x=\"listed_in\",y=\"show_id\",data=top10_genre_movies)\n",
    "plt.title(\"Top 10 Genres of Movies\")\n",
    "plt.xticks(rotation=90)\n",
    "plt.xlabel(\"Genre\")\n",
    "plt.ylabel(\"show counts\")\n",
    "plt.show()"
   ]
  },
  {
   "cell_type": "code",
   "execution_count": 1322,
   "id": "012a4447",
   "metadata": {},
   "outputs": [
    {
     "data": {
      "image/png": "[encoded data removed]",
      "text/plain": [
       "<Figure size 1000x400 with 1 Axes>"
      ]
     },
     "metadata": {},
     "output_type": "display_data"
    }
   ],
   "source": [
    "top10_genre_tvshow = data_final.loc[data_final[\"type\"]==\"TV Show\"]\n",
    "top10_genre_tvshow = top10_genre_tvshow.groupby(\"listed_in\")[\"show_id\"].nunique().reset_index().sort_values(\"show_id\",ascending=False).head(10)\n",
    "plt.figure(figsize=(10,4))\n",
    "sns.barplot(x=\"listed_in\",y=\"show_id\",data=top10_genre_tvshow, palette = \"deep\")\n",
    "plt.title(\"Top 10 Genres of TV Show\")\n",
    "plt.xticks(rotation=90)\n",
    "plt.xlabel(\"Genre\")\n",
    "plt.ylabel(\"show counts\")\n",
    "plt.show()"
   ]
  },
  {
   "cell_type": "markdown",
   "id": "9129b7f3",
   "metadata": {},
   "source": [
    "### INSIGHTS Plot 7 & 8 - Among the movies, international movies are the most prevalent genre, followed by dramas. Similarly, among TV shows, international TV shows dominate, followed by TV dramas."
   ]
  },
  {
   "cell_type": "markdown",
   "id": "cb59c286",
   "metadata": {},
   "source": [
    "*************************************************************************************************************************"
   ]
  },
  {
   "cell_type": "markdown",
   "id": "be6224ab",
   "metadata": {},
   "source": [
    "### Using string slicing, extracting the day,month and year from the date_added column to make consistent format and converting into datetime format. date_added column is the date the show added into Netflix platform"
   ]
  },
  {
   "cell_type": "code",
   "execution_count": 1323,
   "id": "57534045",
   "metadata": {},
   "outputs": [],
   "source": [
    "# Remove leading and trailing white spaces\n",
    "data_final.loc[:,'date_added'] = data_final['date_added'].str.strip()"
   ]
  },
  {
   "cell_type": "code",
   "execution_count": 1324,
   "id": "ac08453c",
   "metadata": {},
   "outputs": [],
   "source": [
    "#taking the month from date\n",
    "data_final.loc[:,\"month\"] = data_final[\"date_added\"].str[:3]"
   ]
  },
  {
   "cell_type": "code",
   "execution_count": 1325,
   "id": "e7cf0897",
   "metadata": {},
   "outputs": [],
   "source": [
    "#taking the year from date\n",
    "data_final.loc[:,\"year\"] = data_final[\"date_added\"].str[-4:]"
   ]
  },
  {
   "cell_type": "code",
   "execution_count": 1326,
   "id": "6258e35e",
   "metadata": {},
   "outputs": [],
   "source": [
    "#taking day from the date\n",
    "data_final.loc[:,\"day\"] = data_final[\"date_added\"].str.split(\" \").str[1].str[:-1]"
   ]
  },
  {
   "cell_type": "code",
   "execution_count": 1327,
   "id": "bc59f6d6",
   "metadata": {},
   "outputs": [
    {
     "data": {
      "text/plain": [
       "array(['25', '24', '23', '22', '21', '20', '19', '17', '16', '15', '14',\n",
       "       '11', '10', '9', '8', '7', '6', '5', '4', '3', '2', '1', '31',\n",
       "       '29', '28', '27', '26', '18', '13', '12', '30', '01,201', '01,200'],\n",
       "      dtype=object)"
      ]
     },
     "execution_count": 1327,
     "metadata": {},
     "output_type": "execute_result"
    }
   ],
   "source": [
    "data_final[\"day\"].unique()"
   ]
  },
  {
   "cell_type": "code",
   "execution_count": 1328,
   "id": "508c95d6",
   "metadata": {},
   "outputs": [
    {
     "data": {
      "text/plain": [
       "array(['Sep', 'Aug', 'Jul', 'Jun', 'May', 'Apr', 'Mar', 'Feb', 'Jan',\n",
       "       'Dec', 'Nov', 'Oct'], dtype=object)"
      ]
     },
     "execution_count": 1328,
     "metadata": {},
     "output_type": "execute_result"
    }
   ],
   "source": [
    "data_final[\"month\"].unique()"
   ]
  },
  {
   "cell_type": "code",
   "execution_count": 1329,
   "id": "05746b06",
   "metadata": {},
   "outputs": [
    {
     "data": {
      "text/plain": [
       "array(['2021', '2020', '2019', '2018', '2017', '2016', '2015', '2014',\n",
       "       '2013', '2012', '2011', '2009', '2008', '2003', '2010'],\n",
       "      dtype=object)"
      ]
     },
     "execution_count": 1329,
     "metadata": {},
     "output_type": "execute_result"
    }
   ],
   "source": [
    "data_final[\"year\"].unique()"
   ]
  },
  {
   "cell_type": "code",
   "execution_count": 1330,
   "id": "6fde918b",
   "metadata": {},
   "outputs": [],
   "source": [
    "#replacing the two unique values in day column with their respective day\n",
    "condition3 = (data_final[\"day\"] ==\"01,201\") | (data_final[\"day\"]==\"01,200\")\n",
    "data_final.loc[condition3,\"day\"] = \"1\""
   ]
  },
  {
   "cell_type": "code",
   "execution_count": 1331,
   "id": "0efcb69e",
   "metadata": {},
   "outputs": [
    {
     "data": {
      "text/plain": [
       "array(['25', '24', '23', '22', '21', '20', '19', '17', '16', '15', '14',\n",
       "       '11', '10', '9', '8', '7', '6', '5', '4', '3', '2', '1', '31',\n",
       "       '29', '28', '27', '26', '18', '13', '12', '30'], dtype=object)"
      ]
     },
     "execution_count": 1331,
     "metadata": {},
     "output_type": "execute_result"
    }
   ],
   "source": [
    "data_final[\"day\"].unique()"
   ]
  },
  {
   "cell_type": "code",
   "execution_count": 1332,
   "id": "7aca9581",
   "metadata": {},
   "outputs": [],
   "source": [
    "#joining all date as new single date and in right format\n",
    "data_final.loc[:,\"date\"] = data_final[\"day\"] +\"-\"+ data_final[\"month\"]+\"-\"+data_final[\"year\"]"
   ]
  },
  {
   "cell_type": "code",
   "execution_count": 1333,
   "id": "a23d5b36",
   "metadata": {
    "scrolled": false
   },
   "outputs": [
    {
     "data": {
      "text/html": [
       "<div>\n",
       "<style scoped>\n",
       "    .dataframe tbody tr th:only-of-type {\n",
       "        vertical-align: middle;\n",
       "    }\n",
       "\n",
       "    .dataframe tbody tr th {\n",
       "        vertical-align: top;\n",
       "    }\n",
       "\n",
       "    .dataframe thead th {\n",
       "        text-align: right;\n",
       "    }\n",
       "</style>\n",
       "<table border=\"1\" class=\"dataframe\">\n",
       "  <thead>\n",
       "    <tr style=\"text-align: right;\">\n",
       "      <th></th>\n",
       "      <th>show_id</th>\n",
       "      <th>type</th>\n",
       "      <th>date_added</th>\n",
       "      <th>release_year</th>\n",
       "      <th>rating</th>\n",
       "      <th>duration</th>\n",
       "      <th>description</th>\n",
       "      <th>title</th>\n",
       "      <th>listed_in</th>\n",
       "      <th>country</th>\n",
       "      <th>director</th>\n",
       "      <th>cast</th>\n",
       "      <th>month</th>\n",
       "      <th>year</th>\n",
       "      <th>day</th>\n",
       "      <th>date</th>\n",
       "    </tr>\n",
       "  </thead>\n",
       "  <tbody>\n",
       "    <tr>\n",
       "      <th>0</th>\n",
       "      <td>s1</td>\n",
       "      <td>Movie</td>\n",
       "      <td>September 25, 2021</td>\n",
       "      <td>2020</td>\n",
       "      <td>PG-13</td>\n",
       "      <td>90 min</td>\n",
       "      <td>As her father nears the end of his life, filmm...</td>\n",
       "      <td>Dick Johnson Is Dead</td>\n",
       "      <td>Documentaries</td>\n",
       "      <td>United States</td>\n",
       "      <td>Kirsten Johnson</td>\n",
       "      <td>Unknown Cast</td>\n",
       "      <td>Sep</td>\n",
       "      <td>2021</td>\n",
       "      <td>25</td>\n",
       "      <td>25-Sep-2021</td>\n",
       "    </tr>\n",
       "    <tr>\n",
       "      <th>1</th>\n",
       "      <td>s2</td>\n",
       "      <td>TV Show</td>\n",
       "      <td>September 24, 2021</td>\n",
       "      <td>2021</td>\n",
       "      <td>TV-MA</td>\n",
       "      <td>2 Seasons</td>\n",
       "      <td>After crossing paths at a party, a Cape Town t...</td>\n",
       "      <td>Blood &amp; Water</td>\n",
       "      <td>International TV Shows</td>\n",
       "      <td>South Africa</td>\n",
       "      <td>Unknown Director</td>\n",
       "      <td>Ama Qamata</td>\n",
       "      <td>Sep</td>\n",
       "      <td>2021</td>\n",
       "      <td>24</td>\n",
       "      <td>24-Sep-2021</td>\n",
       "    </tr>\n",
       "    <tr>\n",
       "      <th>2</th>\n",
       "      <td>s2</td>\n",
       "      <td>TV Show</td>\n",
       "      <td>September 24, 2021</td>\n",
       "      <td>2021</td>\n",
       "      <td>TV-MA</td>\n",
       "      <td>2 Seasons</td>\n",
       "      <td>After crossing paths at a party, a Cape Town t...</td>\n",
       "      <td>Blood &amp; Water</td>\n",
       "      <td>International TV Shows</td>\n",
       "      <td>South Africa</td>\n",
       "      <td>Unknown Director</td>\n",
       "      <td>Khosi Ngema</td>\n",
       "      <td>Sep</td>\n",
       "      <td>2021</td>\n",
       "      <td>24</td>\n",
       "      <td>24-Sep-2021</td>\n",
       "    </tr>\n",
       "    <tr>\n",
       "      <th>3</th>\n",
       "      <td>s2</td>\n",
       "      <td>TV Show</td>\n",
       "      <td>September 24, 2021</td>\n",
       "      <td>2021</td>\n",
       "      <td>TV-MA</td>\n",
       "      <td>2 Seasons</td>\n",
       "      <td>After crossing paths at a party, a Cape Town t...</td>\n",
       "      <td>Blood &amp; Water</td>\n",
       "      <td>International TV Shows</td>\n",
       "      <td>South Africa</td>\n",
       "      <td>Unknown Director</td>\n",
       "      <td>Gail Mabalane</td>\n",
       "      <td>Sep</td>\n",
       "      <td>2021</td>\n",
       "      <td>24</td>\n",
       "      <td>24-Sep-2021</td>\n",
       "    </tr>\n",
       "    <tr>\n",
       "      <th>4</th>\n",
       "      <td>s2</td>\n",
       "      <td>TV Show</td>\n",
       "      <td>September 24, 2021</td>\n",
       "      <td>2021</td>\n",
       "      <td>TV-MA</td>\n",
       "      <td>2 Seasons</td>\n",
       "      <td>After crossing paths at a party, a Cape Town t...</td>\n",
       "      <td>Blood &amp; Water</td>\n",
       "      <td>International TV Shows</td>\n",
       "      <td>South Africa</td>\n",
       "      <td>Unknown Director</td>\n",
       "      <td>Thabang Molaba</td>\n",
       "      <td>Sep</td>\n",
       "      <td>2021</td>\n",
       "      <td>24</td>\n",
       "      <td>24-Sep-2021</td>\n",
       "    </tr>\n",
       "  </tbody>\n",
       "</table>\n",
       "</div>"
      ],
      "text/plain": [
       "  show_id     type          date_added  release_year rating   duration  \\\n",
       "0      s1    Movie  September 25, 2021          2020  PG-13     90 min   \n",
       "1      s2  TV Show  September 24, 2021          2021  TV-MA  2 Seasons   \n",
       "2      s2  TV Show  September 24, 2021          2021  TV-MA  2 Seasons   \n",
       "3      s2  TV Show  September 24, 2021          2021  TV-MA  2 Seasons   \n",
       "4      s2  TV Show  September 24, 2021          2021  TV-MA  2 Seasons   \n",
       "\n",
       "                                         description                 title  \\\n",
       "0  As her father nears the end of his life, filmm...  Dick Johnson Is Dead   \n",
       "1  After crossing paths at a party, a Cape Town t...         Blood & Water   \n",
       "2  After crossing paths at a party, a Cape Town t...         Blood & Water   \n",
       "3  After crossing paths at a party, a Cape Town t...         Blood & Water   \n",
       "4  After crossing paths at a party, a Cape Town t...         Blood & Water   \n",
       "\n",
       "                listed_in        country          director            cast  \\\n",
       "0           Documentaries  United States   Kirsten Johnson    Unknown Cast   \n",
       "1  International TV Shows   South Africa  Unknown Director      Ama Qamata   \n",
       "2  International TV Shows   South Africa  Unknown Director     Khosi Ngema   \n",
       "3  International TV Shows   South Africa  Unknown Director   Gail Mabalane   \n",
       "4  International TV Shows   South Africa  Unknown Director  Thabang Molaba   \n",
       "\n",
       "  month  year day         date  \n",
       "0   Sep  2021  25  25-Sep-2021  \n",
       "1   Sep  2021  24  24-Sep-2021  \n",
       "2   Sep  2021  24  24-Sep-2021  \n",
       "3   Sep  2021  24  24-Sep-2021  \n",
       "4   Sep  2021  24  24-Sep-2021  "
      ]
     },
     "execution_count": 1333,
     "metadata": {},
     "output_type": "execute_result"
    }
   ],
   "source": [
    "data_final.head()"
   ]
  },
  {
   "cell_type": "markdown",
   "id": "d40a4b0d",
   "metadata": {},
   "source": [
    "************************************************************************************************************************"
   ]
  },
  {
   "cell_type": "markdown",
   "id": "4c98764d",
   "metadata": {},
   "source": [
    "## Analysis on date_added column- New column \"year\" is the year which shows added"
   ]
  },
  {
   "cell_type": "code",
   "execution_count": 1334,
   "id": "3bb96376",
   "metadata": {},
   "outputs": [
    {
     "data": {
      "text/html": [
       "<div>\n",
       "<style scoped>\n",
       "    .dataframe tbody tr th:only-of-type {\n",
       "        vertical-align: middle;\n",
       "    }\n",
       "\n",
       "    .dataframe tbody tr th {\n",
       "        vertical-align: top;\n",
       "    }\n",
       "\n",
       "    .dataframe thead th {\n",
       "        text-align: right;\n",
       "    }\n",
       "</style>\n",
       "<table border=\"1\" class=\"dataframe\">\n",
       "  <thead>\n",
       "    <tr style=\"text-align: right;\">\n",
       "      <th></th>\n",
       "      <th>year</th>\n",
       "      <th>show_id</th>\n",
       "    </tr>\n",
       "  </thead>\n",
       "  <tbody>\n",
       "    <tr>\n",
       "      <th>12</th>\n",
       "      <td>2019</td>\n",
       "      <td>2016</td>\n",
       "    </tr>\n",
       "    <tr>\n",
       "      <th>13</th>\n",
       "      <td>2020</td>\n",
       "      <td>1879</td>\n",
       "    </tr>\n",
       "    <tr>\n",
       "      <th>11</th>\n",
       "      <td>2018</td>\n",
       "      <td>1650</td>\n",
       "    </tr>\n",
       "    <tr>\n",
       "      <th>14</th>\n",
       "      <td>2021</td>\n",
       "      <td>1498</td>\n",
       "    </tr>\n",
       "    <tr>\n",
       "      <th>10</th>\n",
       "      <td>2017</td>\n",
       "      <td>1188</td>\n",
       "    </tr>\n",
       "    <tr>\n",
       "      <th>9</th>\n",
       "      <td>2016</td>\n",
       "      <td>430</td>\n",
       "    </tr>\n",
       "    <tr>\n",
       "      <th>8</th>\n",
       "      <td>2015</td>\n",
       "      <td>84</td>\n",
       "    </tr>\n",
       "    <tr>\n",
       "      <th>7</th>\n",
       "      <td>2014</td>\n",
       "      <td>24</td>\n",
       "    </tr>\n",
       "    <tr>\n",
       "      <th>4</th>\n",
       "      <td>2011</td>\n",
       "      <td>13</td>\n",
       "    </tr>\n",
       "    <tr>\n",
       "      <th>6</th>\n",
       "      <td>2013</td>\n",
       "      <td>12</td>\n",
       "    </tr>\n",
       "    <tr>\n",
       "      <th>5</th>\n",
       "      <td>2012</td>\n",
       "      <td>4</td>\n",
       "    </tr>\n",
       "    <tr>\n",
       "      <th>1</th>\n",
       "      <td>2008</td>\n",
       "      <td>3</td>\n",
       "    </tr>\n",
       "    <tr>\n",
       "      <th>0</th>\n",
       "      <td>2003</td>\n",
       "      <td>2</td>\n",
       "    </tr>\n",
       "    <tr>\n",
       "      <th>2</th>\n",
       "      <td>2009</td>\n",
       "      <td>2</td>\n",
       "    </tr>\n",
       "    <tr>\n",
       "      <th>3</th>\n",
       "      <td>2010</td>\n",
       "      <td>2</td>\n",
       "    </tr>\n",
       "  </tbody>\n",
       "</table>\n",
       "</div>"
      ],
      "text/plain": [
       "    year  show_id\n",
       "12  2019     2016\n",
       "13  2020     1879\n",
       "11  2018     1650\n",
       "14  2021     1498\n",
       "10  2017     1188\n",
       "9   2016      430\n",
       "8   2015       84\n",
       "7   2014       24\n",
       "4   2011       13\n",
       "6   2013       12\n",
       "5   2012        4\n",
       "1   2008        3\n",
       "0   2003        2\n",
       "2   2009        2\n",
       "3   2010        2"
      ]
     },
     "execution_count": 1334,
     "metadata": {},
     "output_type": "execute_result"
    }
   ],
   "source": [
    "netflix_added = data_final.groupby(\"year\")[\"show_id\"].nunique().reset_index().sort_values(\"show_id\",ascending=False)\n",
    "netflix_added"
   ]
  },
  {
   "cell_type": "markdown",
   "id": "f17a47a6",
   "metadata": {},
   "source": [
    "### INSIGHTS Observation 1 - We notice that from the year 2016 onwards more shows started getting added to Netflix. So lets filter the data from 2016 till 2021"
   ]
  },
  {
   "cell_type": "code",
   "execution_count": 1338,
   "id": "f8f1d9a9",
   "metadata": {},
   "outputs": [
    {
     "data": {
      "text/html": [
       "<div>\n",
       "<style scoped>\n",
       "    .dataframe tbody tr th:only-of-type {\n",
       "        vertical-align: middle;\n",
       "    }\n",
       "\n",
       "    .dataframe tbody tr th {\n",
       "        vertical-align: top;\n",
       "    }\n",
       "\n",
       "    .dataframe thead th {\n",
       "        text-align: right;\n",
       "    }\n",
       "</style>\n",
       "<table border=\"1\" class=\"dataframe\">\n",
       "  <thead>\n",
       "    <tr style=\"text-align: right;\">\n",
       "      <th></th>\n",
       "      <th>year</th>\n",
       "      <th>type</th>\n",
       "      <th>show_id</th>\n",
       "    </tr>\n",
       "  </thead>\n",
       "  <tbody>\n",
       "    <tr>\n",
       "      <th>21</th>\n",
       "      <td>2019</td>\n",
       "      <td>Movie</td>\n",
       "      <td>1424</td>\n",
       "    </tr>\n",
       "    <tr>\n",
       "      <th>23</th>\n",
       "      <td>2020</td>\n",
       "      <td>Movie</td>\n",
       "      <td>1284</td>\n",
       "    </tr>\n",
       "    <tr>\n",
       "      <th>19</th>\n",
       "      <td>2018</td>\n",
       "      <td>Movie</td>\n",
       "      <td>1237</td>\n",
       "    </tr>\n",
       "    <tr>\n",
       "      <th>25</th>\n",
       "      <td>2021</td>\n",
       "      <td>Movie</td>\n",
       "      <td>993</td>\n",
       "    </tr>\n",
       "    <tr>\n",
       "      <th>17</th>\n",
       "      <td>2017</td>\n",
       "      <td>Movie</td>\n",
       "      <td>839</td>\n",
       "    </tr>\n",
       "    <tr>\n",
       "      <th>24</th>\n",
       "      <td>2020</td>\n",
       "      <td>TV Show</td>\n",
       "      <td>595</td>\n",
       "    </tr>\n",
       "    <tr>\n",
       "      <th>22</th>\n",
       "      <td>2019</td>\n",
       "      <td>TV Show</td>\n",
       "      <td>592</td>\n",
       "    </tr>\n",
       "    <tr>\n",
       "      <th>26</th>\n",
       "      <td>2021</td>\n",
       "      <td>TV Show</td>\n",
       "      <td>505</td>\n",
       "    </tr>\n",
       "    <tr>\n",
       "      <th>20</th>\n",
       "      <td>2018</td>\n",
       "      <td>TV Show</td>\n",
       "      <td>413</td>\n",
       "    </tr>\n",
       "    <tr>\n",
       "      <th>18</th>\n",
       "      <td>2017</td>\n",
       "      <td>TV Show</td>\n",
       "      <td>349</td>\n",
       "    </tr>\n",
       "    <tr>\n",
       "      <th>15</th>\n",
       "      <td>2016</td>\n",
       "      <td>Movie</td>\n",
       "      <td>253</td>\n",
       "    </tr>\n",
       "    <tr>\n",
       "      <th>16</th>\n",
       "      <td>2016</td>\n",
       "      <td>TV Show</td>\n",
       "      <td>177</td>\n",
       "    </tr>\n",
       "  </tbody>\n",
       "</table>\n",
       "</div>"
      ],
      "text/plain": [
       "    year     type  show_id\n",
       "21  2019    Movie     1424\n",
       "23  2020    Movie     1284\n",
       "19  2018    Movie     1237\n",
       "25  2021    Movie      993\n",
       "17  2017    Movie      839\n",
       "24  2020  TV Show      595\n",
       "22  2019  TV Show      592\n",
       "26  2021  TV Show      505\n",
       "20  2018  TV Show      413\n",
       "18  2017  TV Show      349\n",
       "15  2016    Movie      253\n",
       "16  2016  TV Show      177"
      ]
     },
     "execution_count": 1338,
     "metadata": {},
     "output_type": "execute_result"
    }
   ],
   "source": [
    "netflix_added1 = data_final.groupby([\"year\",\"type\"])[\"show_id\"].nunique().reset_index().sort_values(\"show_id\",ascending=False)\n",
    "netflix_added1 = netflix_added1.loc[netflix_added1[\"year\"]>=\"2016\"]\n",
    "netflix_added1"
   ]
  },
  {
   "cell_type": "code",
   "execution_count": 1339,
   "id": "e2d83615",
   "metadata": {
    "scrolled": false
   },
   "outputs": [
    {
     "data": {
      "image/png": "[encoded data removed]",
      "text/plain": [
       "<Figure size 640x480 with 1 Axes>"
      ]
     },
     "metadata": {},
     "output_type": "display_data"
    }
   ],
   "source": [
    "sns.barplot(x=\"year\",y=\"show_id\",hue=\"type\",data=netflix_added1, palette = [\"green\",\"yellow\"])\n",
    "plt.ylabel(\"Shows Count\")\n",
    "plt.show()"
   ]
  },
  {
   "cell_type": "code",
   "execution_count": 1340,
   "id": "5631b451",
   "metadata": {},
   "outputs": [
    {
     "data": {
      "text/plain": [
       "<Axes: xlabel='year', ylabel='show_id'>"
      ]
     },
     "execution_count": 1340,
     "metadata": {},
     "output_type": "execute_result"
    },
    {
     "data": {
      "image/png": "[encoded data removed]",
      "text/plain": [
       "<Figure size 640x480 with 1 Axes>"
      ]
     },
     "metadata": {},
     "output_type": "display_data"
    }
   ],
   "source": [
    "sns.boxplot(x=\"year\",y=\"show_id\", data=netflix_added1)"
   ]
  },
  {
   "cell_type": "markdown",
   "id": "76f3a649",
   "metadata": {},
   "source": [
    "### INSIGHTS Observation from Plot 9 & 10 - So from the plot its evident that 2019 is where more shows added dominating on movies compared to TV shows. So comparing year on year, the trend have increased for both movies and TV shows, with movies dominating the most on every year."
   ]
  },
  {
   "cell_type": "markdown",
   "id": "118ba5a3",
   "metadata": {},
   "source": [
    "### Lets observe on what type of genre and on which months of the year where more movies and tv shows were released or added in netflix from 2016 till 2021"
   ]
  },
  {
   "cell_type": "code",
   "execution_count": 1342,
   "id": "ce15788b",
   "metadata": {},
   "outputs": [],
   "source": [
    "shows_from_2016 = data_final.loc[data_final[\"year\"]>=\"2016\"]"
   ]
  },
  {
   "cell_type": "code",
   "execution_count": 1343,
   "id": "aa9cc958",
   "metadata": {
    "scrolled": true
   },
   "outputs": [
    {
     "data": {
      "text/html": [
       "<div>\n",
       "<style scoped>\n",
       "    .dataframe tbody tr th:only-of-type {\n",
       "        vertical-align: middle;\n",
       "    }\n",
       "\n",
       "    .dataframe tbody tr th {\n",
       "        vertical-align: top;\n",
       "    }\n",
       "\n",
       "    .dataframe thead th {\n",
       "        text-align: right;\n",
       "    }\n",
       "</style>\n",
       "<table border=\"1\" class=\"dataframe\">\n",
       "  <thead>\n",
       "    <tr style=\"text-align: right;\">\n",
       "      <th></th>\n",
       "      <th>listed_in</th>\n",
       "      <th>month</th>\n",
       "      <th>show_id</th>\n",
       "    </tr>\n",
       "  </thead>\n",
       "  <tbody>\n",
       "    <tr>\n",
       "      <th>132</th>\n",
       "      <td>International Movies</td>\n",
       "      <td>Apr</td>\n",
       "      <td>265</td>\n",
       "    </tr>\n",
       "    <tr>\n",
       "      <th>142</th>\n",
       "      <td>International Movies</td>\n",
       "      <td>Oct</td>\n",
       "      <td>257</td>\n",
       "    </tr>\n",
       "    <tr>\n",
       "      <th>139</th>\n",
       "      <td>International Movies</td>\n",
       "      <td>Mar</td>\n",
       "      <td>254</td>\n",
       "    </tr>\n",
       "    <tr>\n",
       "      <th>134</th>\n",
       "      <td>International Movies</td>\n",
       "      <td>Dec</td>\n",
       "      <td>249</td>\n",
       "    </tr>\n",
       "    <tr>\n",
       "      <th>137</th>\n",
       "      <td>International Movies</td>\n",
       "      <td>Jul</td>\n",
       "      <td>244</td>\n",
       "    </tr>\n",
       "    <tr>\n",
       "      <th>138</th>\n",
       "      <td>International Movies</td>\n",
       "      <td>Jun</td>\n",
       "      <td>240</td>\n",
       "    </tr>\n",
       "    <tr>\n",
       "      <th>133</th>\n",
       "      <td>International Movies</td>\n",
       "      <td>Aug</td>\n",
       "      <td>238</td>\n",
       "    </tr>\n",
       "    <tr>\n",
       "      <th>91</th>\n",
       "      <td>Dramas</td>\n",
       "      <td>Mar</td>\n",
       "      <td>235</td>\n",
       "    </tr>\n",
       "    <tr>\n",
       "      <th>89</th>\n",
       "      <td>Dramas</td>\n",
       "      <td>Jul</td>\n",
       "      <td>233</td>\n",
       "    </tr>\n",
       "    <tr>\n",
       "      <th>143</th>\n",
       "      <td>International Movies</td>\n",
       "      <td>Sep</td>\n",
       "      <td>233</td>\n",
       "    </tr>\n",
       "  </tbody>\n",
       "</table>\n",
       "</div>"
      ],
      "text/plain": [
       "                listed_in month  show_id\n",
       "132  International Movies   Apr      265\n",
       "142  International Movies   Oct      257\n",
       "139  International Movies   Mar      254\n",
       "134  International Movies   Dec      249\n",
       "137  International Movies   Jul      244\n",
       "138  International Movies   Jun      240\n",
       "133  International Movies   Aug      238\n",
       "91                 Dramas   Mar      235\n",
       "89                 Dramas   Jul      233\n",
       "143  International Movies   Sep      233"
      ]
     },
     "execution_count": 1343,
     "metadata": {},
     "output_type": "execute_result"
    }
   ],
   "source": [
    "movies = shows_from_2016.loc[shows_from_2016[\"type\"]==\"Movie\"]\n",
    "movies = movies.groupby([\"listed_in\",\"month\"])[\"show_id\"].nunique().reset_index().sort_values(\"show_id\",ascending=False)\n",
    "movies.head(10)"
   ]
  },
  {
   "cell_type": "code",
   "execution_count": 1344,
   "id": "fadc4060",
   "metadata": {},
   "outputs": [
    {
     "data": {
      "text/html": [
       "<div>\n",
       "<style scoped>\n",
       "    .dataframe tbody tr th:only-of-type {\n",
       "        vertical-align: middle;\n",
       "    }\n",
       "\n",
       "    .dataframe tbody tr th {\n",
       "        vertical-align: top;\n",
       "    }\n",
       "\n",
       "    .dataframe thead th {\n",
       "        text-align: right;\n",
       "    }\n",
       "</style>\n",
       "<table border=\"1\" class=\"dataframe\">\n",
       "  <thead>\n",
       "    <tr style=\"text-align: right;\">\n",
       "      <th></th>\n",
       "      <th>listed_in</th>\n",
       "      <th>month</th>\n",
       "      <th>show_id</th>\n",
       "    </tr>\n",
       "  </thead>\n",
       "  <tbody>\n",
       "    <tr>\n",
       "      <th>59</th>\n",
       "      <td>International TV Shows</td>\n",
       "      <td>Dec</td>\n",
       "      <td>139</td>\n",
       "    </tr>\n",
       "    <tr>\n",
       "      <th>62</th>\n",
       "      <td>International TV Shows</td>\n",
       "      <td>Jul</td>\n",
       "      <td>135</td>\n",
       "    </tr>\n",
       "    <tr>\n",
       "      <th>58</th>\n",
       "      <td>International TV Shows</td>\n",
       "      <td>Aug</td>\n",
       "      <td>131</td>\n",
       "    </tr>\n",
       "    <tr>\n",
       "      <th>63</th>\n",
       "      <td>International TV Shows</td>\n",
       "      <td>Jun</td>\n",
       "      <td>130</td>\n",
       "    </tr>\n",
       "    <tr>\n",
       "      <th>57</th>\n",
       "      <td>International TV Shows</td>\n",
       "      <td>Apr</td>\n",
       "      <td>127</td>\n",
       "    </tr>\n",
       "    <tr>\n",
       "      <th>66</th>\n",
       "      <td>International TV Shows</td>\n",
       "      <td>Nov</td>\n",
       "      <td>110</td>\n",
       "    </tr>\n",
       "    <tr>\n",
       "      <th>64</th>\n",
       "      <td>International TV Shows</td>\n",
       "      <td>Mar</td>\n",
       "      <td>108</td>\n",
       "    </tr>\n",
       "    <tr>\n",
       "      <th>68</th>\n",
       "      <td>International TV Shows</td>\n",
       "      <td>Sep</td>\n",
       "      <td>104</td>\n",
       "    </tr>\n",
       "    <tr>\n",
       "      <th>67</th>\n",
       "      <td>International TV Shows</td>\n",
       "      <td>Oct</td>\n",
       "      <td>102</td>\n",
       "    </tr>\n",
       "    <tr>\n",
       "      <th>65</th>\n",
       "      <td>International TV Shows</td>\n",
       "      <td>May</td>\n",
       "      <td>91</td>\n",
       "    </tr>\n",
       "  </tbody>\n",
       "</table>\n",
       "</div>"
      ],
      "text/plain": [
       "                 listed_in month  show_id\n",
       "59  International TV Shows   Dec      139\n",
       "62  International TV Shows   Jul      135\n",
       "58  International TV Shows   Aug      131\n",
       "63  International TV Shows   Jun      130\n",
       "57  International TV Shows   Apr      127\n",
       "66  International TV Shows   Nov      110\n",
       "64  International TV Shows   Mar      108\n",
       "68  International TV Shows   Sep      104\n",
       "67  International TV Shows   Oct      102\n",
       "65  International TV Shows   May       91"
      ]
     },
     "execution_count": 1344,
     "metadata": {},
     "output_type": "execute_result"
    }
   ],
   "source": [
    "tvshows = shows_from_2016.loc[shows_from_2016[\"type\"]==\"TV Show\"]\n",
    "tvshows = tvshows.groupby([\"listed_in\",\"month\"])[\"show_id\"].nunique().reset_index().sort_values(\"show_id\",ascending=False)\n",
    "tvshows.head(10)"
   ]
  },
  {
   "cell_type": "markdown",
   "id": "5f7a8fcb",
   "metadata": {},
   "source": [
    "###  INSIGHTS Observation: Between 2016 and 2021, the majority of content added consists of international movies across all months for the movie category and international TV shows for the TV show category. This indicates a strong preference among the audience for international movies, while international TV shows are favored in the TV show category."
   ]
  },
  {
   "cell_type": "markdown",
   "id": "2aadae38",
   "metadata": {},
   "source": [
    "## Analysis of top 10 actors/directors of different types of shows/movies."
   ]
  },
  {
   "cell_type": "code",
   "execution_count": 1345,
   "id": "d71c8816",
   "metadata": {
    "scrolled": true
   },
   "outputs": [
    {
     "data": {
      "text/html": [
       "<div>\n",
       "<style scoped>\n",
       "    .dataframe tbody tr th:only-of-type {\n",
       "        vertical-align: middle;\n",
       "    }\n",
       "\n",
       "    .dataframe tbody tr th {\n",
       "        vertical-align: top;\n",
       "    }\n",
       "\n",
       "    .dataframe thead th {\n",
       "        text-align: right;\n",
       "    }\n",
       "</style>\n",
       "<table border=\"1\" class=\"dataframe\">\n",
       "  <thead>\n",
       "    <tr style=\"text-align: right;\">\n",
       "      <th></th>\n",
       "      <th>cast</th>\n",
       "      <th>show_id</th>\n",
       "    </tr>\n",
       "  </thead>\n",
       "  <tbody>\n",
       "    <tr>\n",
       "      <th>2833</th>\n",
       "      <td>Anupam Kher</td>\n",
       "      <td>43</td>\n",
       "    </tr>\n",
       "    <tr>\n",
       "      <th>30489</th>\n",
       "      <td>Shah Rukh Khan</td>\n",
       "      <td>35</td>\n",
       "    </tr>\n",
       "    <tr>\n",
       "      <th>16697</th>\n",
       "      <td>Julie Tejwani</td>\n",
       "      <td>33</td>\n",
       "    </tr>\n",
       "    <tr>\n",
       "      <th>24215</th>\n",
       "      <td>Naseeruddin Shah</td>\n",
       "      <td>32</td>\n",
       "    </tr>\n",
       "    <tr>\n",
       "      <th>32591</th>\n",
       "      <td>Takahiro Sakurai</td>\n",
       "      <td>32</td>\n",
       "    </tr>\n",
       "    <tr>\n",
       "      <th>28974</th>\n",
       "      <td>Rupa Bhimani</td>\n",
       "      <td>31</td>\n",
       "    </tr>\n",
       "    <tr>\n",
       "      <th>25424</th>\n",
       "      <td>Om Puri</td>\n",
       "      <td>30</td>\n",
       "    </tr>\n",
       "    <tr>\n",
       "      <th>846</th>\n",
       "      <td>Akshay Kumar</td>\n",
       "      <td>30</td>\n",
       "    </tr>\n",
       "    <tr>\n",
       "      <th>35881</th>\n",
       "      <td>Yuki Kaji</td>\n",
       "      <td>29</td>\n",
       "    </tr>\n",
       "    <tr>\n",
       "      <th>25782</th>\n",
       "      <td>Paresh Rawal</td>\n",
       "      <td>28</td>\n",
       "    </tr>\n",
       "  </tbody>\n",
       "</table>\n",
       "</div>"
      ],
      "text/plain": [
       "                   cast  show_id\n",
       "2833        Anupam Kher       43\n",
       "30489    Shah Rukh Khan       35\n",
       "16697     Julie Tejwani       33\n",
       "24215  Naseeruddin Shah       32\n",
       "32591  Takahiro Sakurai       32\n",
       "28974      Rupa Bhimani       31\n",
       "25424           Om Puri       30\n",
       "846        Akshay Kumar       30\n",
       "35881         Yuki Kaji       29\n",
       "25782      Paresh Rawal       28"
      ]
     },
     "execution_count": 1345,
     "metadata": {},
     "output_type": "execute_result"
    }
   ],
   "source": [
    "actors = data_final.groupby(\"cast\")[\"show_id\"].nunique().reset_index().sort_values(\"show_id\",ascending=False).head(11)\n",
    "actors.drop(34214,inplace=True) #dropped the unknown cast\n",
    "actors #top10 actors"
   ]
  },
  {
   "cell_type": "code",
   "execution_count": 1346,
   "id": "26b56b64",
   "metadata": {},
   "outputs": [
    {
     "data": {
      "image/png": "[encoded data removed]",
      "text/plain": [
       "<Figure size 1000x400 with 1 Axes>"
      ]
     },
     "metadata": {},
     "output_type": "display_data"
    }
   ],
   "source": [
    "plt.figure(figsize=(10,4))\n",
    "sns.barplot(x=\"cast\",y=\"show_id\",data=actors)\n",
    "plt.title(\"Top 10 Actors Across Shows\")\n",
    "plt.xticks(rotation=90)\n",
    "plt.show()"
   ]
  },
  {
   "cell_type": "code",
   "execution_count": 1347,
   "id": "0e35d040",
   "metadata": {
    "scrolled": true
   },
   "outputs": [
    {
     "data": {
      "text/html": [
       "<div>\n",
       "<style scoped>\n",
       "    .dataframe tbody tr th:only-of-type {\n",
       "        vertical-align: middle;\n",
       "    }\n",
       "\n",
       "    .dataframe tbody tr th {\n",
       "        vertical-align: top;\n",
       "    }\n",
       "\n",
       "    .dataframe thead th {\n",
       "        text-align: right;\n",
       "    }\n",
       "</style>\n",
       "<table border=\"1\" class=\"dataframe\">\n",
       "  <thead>\n",
       "    <tr style=\"text-align: right;\">\n",
       "      <th></th>\n",
       "      <th>director</th>\n",
       "      <th>show_id</th>\n",
       "    </tr>\n",
       "  </thead>\n",
       "  <tbody>\n",
       "    <tr>\n",
       "      <th>3749</th>\n",
       "      <td>Rajiv Chilaka</td>\n",
       "      <td>22</td>\n",
       "    </tr>\n",
       "    <tr>\n",
       "      <th>1906</th>\n",
       "      <td>Jan Suter</td>\n",
       "      <td>21</td>\n",
       "    </tr>\n",
       "    <tr>\n",
       "      <th>3800</th>\n",
       "      <td>Raúl Campos</td>\n",
       "      <td>19</td>\n",
       "    </tr>\n",
       "    <tr>\n",
       "      <th>2866</th>\n",
       "      <td>Marcus Raboy</td>\n",
       "      <td>16</td>\n",
       "    </tr>\n",
       "    <tr>\n",
       "      <th>4457</th>\n",
       "      <td>Suhas Kadav</td>\n",
       "      <td>16</td>\n",
       "    </tr>\n",
       "    <tr>\n",
       "      <th>1954</th>\n",
       "      <td>Jay Karas</td>\n",
       "      <td>15</td>\n",
       "    </tr>\n",
       "    <tr>\n",
       "      <th>755</th>\n",
       "      <td>Cathy Garcia-Molina</td>\n",
       "      <td>13</td>\n",
       "    </tr>\n",
       "    <tr>\n",
       "      <th>1951</th>\n",
       "      <td>Jay Chapman</td>\n",
       "      <td>12</td>\n",
       "    </tr>\n",
       "    <tr>\n",
       "      <th>2945</th>\n",
       "      <td>Martin Scorsese</td>\n",
       "      <td>12</td>\n",
       "    </tr>\n",
       "    <tr>\n",
       "      <th>4942</th>\n",
       "      <td>Youssef Chahine</td>\n",
       "      <td>12</td>\n",
       "    </tr>\n",
       "  </tbody>\n",
       "</table>\n",
       "</div>"
      ],
      "text/plain": [
       "                 director  show_id\n",
       "3749        Rajiv Chilaka       22\n",
       "1906            Jan Suter       21\n",
       "3800          Raúl Campos       19\n",
       "2866         Marcus Raboy       16\n",
       "4457          Suhas Kadav       16\n",
       "1954            Jay Karas       15\n",
       "755   Cathy Garcia-Molina       13\n",
       "1951          Jay Chapman       12\n",
       "2945      Martin Scorsese       12\n",
       "4942      Youssef Chahine       12"
      ]
     },
     "execution_count": 1347,
     "metadata": {},
     "output_type": "execute_result"
    }
   ],
   "source": [
    "directors = data_final.groupby(\"director\")[\"show_id\"].nunique().reset_index().sort_values(\"show_id\",ascending=False).head(11)\n",
    "directors.drop(4744,inplace=True) #dropped the unknown director\n",
    "directors #top 10 directors"
   ]
  },
  {
   "cell_type": "code",
   "execution_count": 1348,
   "id": "a0fdaa09",
   "metadata": {
    "scrolled": false
   },
   "outputs": [
    {
     "data": {
      "image/png": "[encoded data removed]",
      "text/plain": [
       "<Figure size 1000x400 with 1 Axes>"
      ]
     },
     "metadata": {},
     "output_type": "display_data"
    }
   ],
   "source": [
    "plt.figure(figsize=(10,4))\n",
    "sns.barplot(x=\"director\",y=\"show_id\",data=directors, palette = \"Set1\")\n",
    "plt.title(\"Top 10 Directors Across Shows\")\n",
    "plt.xticks(rotation=90)\n",
    "plt.show()"
   ]
  },
  {
   "cell_type": "markdown",
   "id": "39e35c5f",
   "metadata": {},
   "source": [
    "***************************************************************************************************************"
   ]
  },
  {
   "cell_type": "markdown",
   "id": "7d9e43a8",
   "metadata": {},
   "source": [
    "### TV SHOWS WITH MOST SEASONS"
   ]
  },
  {
   "cell_type": "code",
   "execution_count": 1349,
   "id": "96375dc6",
   "metadata": {},
   "outputs": [
    {
     "data": {
      "text/plain": [
       "array(['2 Seasons', '1 Season', '9 Seasons', '4 Seasons', '5 Seasons',\n",
       "       '3 Seasons', '6 Seasons', '7 Seasons', '10 Seasons', '8 Seasons',\n",
       "       '17 Seasons', '13 Seasons', '15 Seasons', '12 Seasons',\n",
       "       '11 Seasons'], dtype=object)"
      ]
     },
     "execution_count": 1349,
     "metadata": {},
     "output_type": "execute_result"
    }
   ],
   "source": [
    "most_seasons = data_final.loc[data_final[\"type\"]==\"TV Show\"]\n",
    "most_seasons[\"duration\"].unique()"
   ]
  },
  {
   "cell_type": "code",
   "execution_count": 1350,
   "id": "785424ea",
   "metadata": {},
   "outputs": [
    {
     "data": {
      "text/plain": [
       "array([\"Grey's Anatomy\", 'Heartland', 'Supernatural',\n",
       "       'COMEDIANS of the world', 'NCIS', 'Red vs. Blue'], dtype=object)"
      ]
     },
     "execution_count": 1350,
     "metadata": {},
     "output_type": "execute_result"
    }
   ],
   "source": [
    "most_seasons = most_seasons.loc[(most_seasons[\"duration\"]==\"17 Seasons\")| (most_seasons[\"duration\"]==\"15 Seasons\")| (most_seasons[\"duration\"]==\"13 Seasons\")]\n",
    "\n",
    "most_seasons[\"title\"].unique()"
   ]
  },
  {
   "cell_type": "markdown",
   "id": "3f264ad0",
   "metadata": {},
   "source": [
    "## Top 5 Country where shows added between 2016 till 2021"
   ]
  },
  {
   "cell_type": "code",
   "execution_count": 1197,
   "id": "0efdc634",
   "metadata": {
    "scrolled": true
   },
   "outputs": [
    {
     "data": {
      "text/html": [
       "<div>\n",
       "<style scoped>\n",
       "    .dataframe tbody tr th:only-of-type {\n",
       "        vertical-align: middle;\n",
       "    }\n",
       "\n",
       "    .dataframe tbody tr th {\n",
       "        vertical-align: top;\n",
       "    }\n",
       "\n",
       "    .dataframe thead th {\n",
       "        text-align: right;\n",
       "    }\n",
       "</style>\n",
       "<table border=\"1\" class=\"dataframe\">\n",
       "  <thead>\n",
       "    <tr style=\"text-align: right;\">\n",
       "      <th></th>\n",
       "      <th>country</th>\n",
       "      <th>show_id</th>\n",
       "    </tr>\n",
       "  </thead>\n",
       "  <tbody>\n",
       "    <tr>\n",
       "      <th>117</th>\n",
       "      <td>United States</td>\n",
       "      <td>4404</td>\n",
       "    </tr>\n",
       "    <tr>\n",
       "      <th>45</th>\n",
       "      <td>India</td>\n",
       "      <td>1046</td>\n",
       "    </tr>\n",
       "    <tr>\n",
       "      <th>115</th>\n",
       "      <td>United Kingdom</td>\n",
       "      <td>791</td>\n",
       "    </tr>\n",
       "    <tr>\n",
       "      <th>21</th>\n",
       "      <td>Canada</td>\n",
       "      <td>435</td>\n",
       "    </tr>\n",
       "    <tr>\n",
       "      <th>36</th>\n",
       "      <td>France</td>\n",
       "      <td>382</td>\n",
       "    </tr>\n",
       "  </tbody>\n",
       "</table>\n",
       "</div>"
      ],
      "text/plain": [
       "            country  show_id\n",
       "117   United States     4404\n",
       "45            India     1046\n",
       "115  United Kingdom      791\n",
       "21           Canada      435\n",
       "36           France      382"
      ]
     },
     "execution_count": 1197,
     "metadata": {},
     "output_type": "execute_result"
    }
   ],
   "source": [
    "top5 = data_final.loc[data_final[\"year\"]>=2016]\n",
    "top5 = top5.groupby(\"country\")[\"show_id\"].nunique().reset_index().sort_values(\"show_id\",ascending=False).head(5)\n",
    "top5"
   ]
  },
  {
   "cell_type": "code",
   "execution_count": 1224,
   "id": "1e426844",
   "metadata": {
    "scrolled": false
   },
   "outputs": [
    {
     "data": {
      "image/png": "[encoded data removed]",
      "text/plain": [
       "<Figure size 640x480 with 1 Axes>"
      ]
     },
     "metadata": {},
     "output_type": "display_data"
    }
   ],
   "source": [
    "sns.barplot(x=\"country\",y=\"show_id\",data=top5)\n",
    "plt.title(\"Top 5 Country With Shows Added\")\n",
    "plt.show()"
   ]
  },
  {
   "cell_type": "markdown",
   "id": "17f8759c",
   "metadata": {},
   "source": [
    "### INSIGHTS Observation: So its from USA and India where most shows got added into Netflix followed by UK,Canada and France"
   ]
  },
  {
   "cell_type": "markdown",
   "id": "99ed9792",
   "metadata": {},
   "source": [
    "********************************************************************************************************************"
   ]
  },
  {
   "cell_type": "markdown",
   "id": "ec7c1b21",
   "metadata": {},
   "source": [
    "### Launch of Movies and TV Shows in Netflix By Month"
   ]
  },
  {
   "cell_type": "code",
   "execution_count": 1363,
   "id": "abf6a8db",
   "metadata": {
    "scrolled": false
   },
   "outputs": [
    {
     "data": {
      "image/png": "[encoded data removed]",
      "text/plain": [
       "<Figure size 640x480 with 1 Axes>"
      ]
     },
     "metadata": {},
     "output_type": "display_data"
    }
   ],
   "source": [
    "tv_shows_l = data_final.loc[data_final[\"type\"]==\"TV Show\"]\n",
    "tv_shows_l = tv_shows_l.groupby(\"month\")[\"show_id\"].nunique().reset_index().sort_values(\"show_id\",ascending=False)\n",
    "\n",
    "sns.lineplot(x=\"month\",y=\"show_id\",data=tv_shows_l)\n",
    "plt.xlabel(\"Month\")\n",
    "plt.ylabel(\"Number of TV Shows\")\n",
    "plt.title(\"Number of TV Shows Released by Month\")\n",
    "plt.show()"
   ]
  },
  {
   "cell_type": "code",
   "execution_count": 1365,
   "id": "9b292162",
   "metadata": {
    "scrolled": false
   },
   "outputs": [
    {
     "data": {
      "image/png": "[encoded data removed]",
      "text/plain": [
       "<Figure size 640x480 with 1 Axes>"
      ]
     },
     "metadata": {},
     "output_type": "display_data"
    }
   ],
   "source": [
    "movies_shows_l = data_final.loc[data_final[\"type\"]==\"Movie\"]\n",
    "movies_shows_l = movies_shows_l.groupby(\"month\")[\"show_id\"].nunique().reset_index().sort_values(\"show_id\",ascending=False)\n",
    "\n",
    "sns.lineplot(x=\"month\",y=\"show_id\",data=movies_shows_l, color=\"r\")\n",
    "plt.xlabel(\"Month\")\n",
    "plt.ylabel(\"Number of Movie\")\n",
    "plt.title(\"Number of Movies Released by Month\")\n",
    "plt.show()"
   ]
  },
  {
   "cell_type": "code",
   "execution_count": null,
   "id": "39aa7b70",
   "metadata": {},
   "outputs": [],
   "source": []
  },
  {
   "cell_type": "markdown",
   "id": "428f04e0",
   "metadata": {},
   "source": [
    "### INSIGHTS: There could be several reasons why Netflix launches more Movies & TV shows during April, July & December dominating; Feb being the month were less no of shows/movies got added.\n",
    "\n",
    " - December is known for the holiday season including Christmas and New Year while July often marks summer vacations and holidays in many regions. These periods typically see increased viewership as people have more time to watch shows.\n",
    "\n",
    "- Viewership patterns may vary throughout the year, with people spending more time indoors during colder months (December) and warmer months (July). Netflix may strategically release more shows during these times to capitalize on higher viewership.\n",
    "\n",
    "- December, April and July are often associated with major events, holidays, and promotions, providing opportunities for Netflix to market and promote their shows more effectively, potentially leading to higher engagement and viewership.\n",
    "\n",
    "- So its clear that during holidays and vacations time were its optimal to add more shows into the platform. "
   ]
  },
  {
   "cell_type": "code",
   "execution_count": 1389,
   "id": "3527ffd3",
   "metadata": {},
   "outputs": [
    {
     "name": "stdout",
     "output_type": "stream",
     "text": [
      "<class 'pandas.core.frame.DataFrame'>\n",
      "RangeIndex: 201936 entries, 0 to 201935\n",
      "Data columns (total 16 columns):\n",
      " #   Column        Non-Null Count   Dtype \n",
      "---  ------        --------------   ----- \n",
      " 0   show_id       201936 non-null  object\n",
      " 1   type          201936 non-null  object\n",
      " 2   date_added    201936 non-null  object\n",
      " 3   release_year  201936 non-null  int64 \n",
      " 4   rating        201936 non-null  object\n",
      " 5   duration      201936 non-null  object\n",
      " 6   description   201936 non-null  object\n",
      " 7   title         201936 non-null  object\n",
      " 8   listed_in     201936 non-null  object\n",
      " 9   country       201936 non-null  object\n",
      " 10  director      201936 non-null  object\n",
      " 11  cast          201936 non-null  object\n",
      " 12  month         201936 non-null  object\n",
      " 13  year          201936 non-null  Int64 \n",
      " 14  day           201936 non-null  Int64 \n",
      " 15  date          201936 non-null  object\n",
      "dtypes: Int64(2), int64(1), object(13)\n",
      "memory usage: 25.0+ MB\n"
     ]
    }
   ],
   "source": [
    "data_final.info()"
   ]
  },
  {
   "cell_type": "code",
   "execution_count": 1380,
   "id": "f97e6d47",
   "metadata": {},
   "outputs": [],
   "source": [
    "data_final[\"year\"] = data_final[\"year\"].astype(\"Int64\")"
   ]
  },
  {
   "cell_type": "code",
   "execution_count": 1384,
   "id": "1577c877",
   "metadata": {},
   "outputs": [],
   "source": [
    "data_final[\"day\"] = data_final[\"day\"].astype(\"Int64\")"
   ]
  },
  {
   "cell_type": "code",
   "execution_count": 1403,
   "id": "7e2c0e55",
   "metadata": {},
   "outputs": [
    {
     "data": {
      "image/png": "[encoded data removed]",
      "text/plain": [
       "<Figure size 1000x800 with 2 Axes>"
      ]
     },
     "metadata": {},
     "output_type": "display_data"
    }
   ],
   "source": [
    "categorical_variables = ['type', 'rating', 'listed_in']\n",
    "\n",
    "# Compute the frequency of each combination of categories.\n",
    "frequency_table = data_final[categorical_variables].apply(lambda x: x.value_counts()[:5]).T.fillna(0)\n",
    "\n",
    "\n",
    "plt.figure(figsize=(10, 8))\n",
    "sns.heatmap(frequency_table, annot=True, fmt='g', cmap='Blues', linewidths=0.5)\n",
    "plt.title('Frequency Distribution of Categorical Variables')\n",
    "plt.xlabel('Categories')\n",
    "plt.ylabel('Variables')\n",
    "plt.show()"
   ]
  },
  {
   "cell_type": "markdown",
   "id": "8f1ae26e",
   "metadata": {},
   "source": [
    "## Recommendations based on the insights and observations:\n",
    "\n",
    "1. The platform sees a higher addition of movies compared to TV shows. To expand viewership, it's imperative to prioritize the release of international movies and TV shows.\n",
    "2. With a significant portion of content originating from the USA and India, there's a clear opportunity to capitalize on these regions. Additionally, exploring content from emerging markets like the UK, Canada, and Korean shows could further diversify the platform's offerings.\n",
    "3. Leveraging seasonal trends, potential to boost engagement by strategically releasing more content during winter and vacation periods when audiences have more leisure time for entertainment.\n",
    "4. Analyzing the top 10 actors and directors whose content is not yet available on the platform presents an opportunity to attract their fan bases and expand viewership.\n",
    "5. Investing in Netflix original content production and collaborations with top actors and directors as per insights"
   ]
  },
  {
   "cell_type": "code",
   "execution_count": null,
   "id": "80913b75",
   "metadata": {},
   "outputs": [],
   "source": []
  },
  {
   "cell_type": "code",
   "execution_count": null,
   "id": "0ea759bb",
   "metadata": {},
   "outputs": [],
   "source": []
  },
  {
   "cell_type": "code",
   "execution_count": null,
   "id": "27fd9922",
   "metadata": {},
   "outputs": [],
   "source": []
  },
  {
   "cell_type": "code",
   "execution_count": null,
   "id": "5ebd4999",
   "metadata": {},
   "outputs": [],
   "source": []
  },
  {
   "cell_type": "code",
   "execution_count": null,
   "id": "46b87e53",
   "metadata": {},
   "outputs": [],
   "source": []
  },
  {
   "cell_type": "code",
   "execution_count": null,
   "id": "9fd9f04c",
   "metadata": {},
   "outputs": [],
   "source": []
  }
 ],
 "metadata": {
  "kernelspec": {
   "display_name": "Python 3 (ipykernel)",
   "language": "python",
   "name": "python3"
  },
  "language_info": {
   "codemirror_mode": {
    "name": "ipython",
    "version": 3
   },
   "file_extension": ".py",
   "mimetype": "text/x-python",
   "name": "python",
   "nbconvert_exporter": "python",
   "pygments_lexer": "ipython3",
   "version": "3.11.5"
  }
 },
 "nbformat": 4,
 "nbformat_minor": 5
}
